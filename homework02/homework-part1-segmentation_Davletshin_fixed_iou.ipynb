{
 "cells": [
  {
   "cell_type": "markdown",
   "id": "03840993",
   "metadata": {},
   "source": [
    "**Neural networks for road segmentation**\n",
    "========================"
   ]
  },
  {
   "cell_type": "markdown",
   "id": "7def38b0",
   "metadata": {},
   "source": [
    "Your next task is to train neural network to segment road on images from car cams."
   ]
  },
  {
   "cell_type": "markdown",
   "id": "9cdf93db",
   "metadata": {},
   "source": [
    "The original dataset is provided by Karlsruhe Institute of Technology (http://www.cvlibs.net/datasets/kitti/eval_road.php). Their images are ±370x1270, but, for simlictiy, we will use 370x370 squares."
   ]
  },
  {
   "cell_type": "markdown",
   "id": "2072b7bb",
   "metadata": {},
   "source": [
    "One can download the dataset from https://disk.yandex.ru/d/QPOw4hk84-se_w"
   ]
  },
  {
   "cell_type": "markdown",
   "id": "6fec3016",
   "metadata": {},
   "source": [
    "Here is an example of input data with corresponding ground truth:"
   ]
  },
  {
   "cell_type": "code",
   "execution_count": 1,
   "id": "a07565b2",
   "metadata": {},
   "outputs": [],
   "source": [
    "import os\n",
    "import cv2\n",
    "import numpy as np\n",
    "\n",
    "import albumentations as A\n",
    "import tqdm\n",
    "import torch\n",
    "import torchvision.transforms as transforms\n",
    "import torchvision.models as models\n",
    "from torch.utils.data import Dataset\n",
    "import torch.nn as nn\n",
    "from torch.nn import functional as F\n",
    "\n",
    "import matplotlib.pyplot as plt\n",
    "%matplotlib inline"
   ]
  },
  {
   "cell_type": "code",
   "execution_count": 2,
   "metadata": {},
   "outputs": [
    {
     "name": "stdout",
     "output_type": "stream",
     "text": [
      "Our main computing device is 'cuda:0'\n"
     ]
    }
   ],
   "source": [
    "def get_computing_device():\n",
    "    if torch.cuda.is_available():\n",
    "        device = torch.device('cuda:0')\n",
    "    else:\n",
    "        device = torch.device('cpu')\n",
    "    return device\n",
    "\n",
    "device = get_computing_device()\n",
    "print(f\"Our main computing device is '{device}'\")"
   ]
  },
  {
   "cell_type": "code",
   "execution_count": 3,
   "id": "2d6665d8",
   "metadata": {},
   "outputs": [],
   "source": [
    "def get_paths(path):\n",
    "    _, _, filenames = next(os.walk(path))\n",
    "\n",
    "    images_paths = []\n",
    "    for filename in sorted(filenames):            \n",
    "        images_paths.append(os.path.join(path, filename))\n",
    "    \n",
    "    return np.stack(images_paths)\n",
    "\n",
    "class RoadDataset(Dataset):\n",
    "    \"\"\"Feel free to rewrite it. For ex. cache all images in RAM to increase training speed\"\"\"\n",
    "    def __init__(self, images, masks, transform, aug=None,):\n",
    "        self.images = sorted(images)\n",
    "        self.masks = sorted(masks)\n",
    "        self.transform = transform\n",
    "        self.aug = aug\n",
    "    \n",
    "    def __len__(self):\n",
    "        return len(self.images)\n",
    "    \n",
    "    def __getitem__(self, idx):        \n",
    "        im_name = self.images[idx]\n",
    "        mask_name = self.masks[idx]\n",
    "        \n",
    "        image = cv2.imread(im_name)[:,:,::-1] / 255.0  # ::-1 to convert from BGR to RGB\n",
    "        mask = cv2.imread(mask_name, cv2.IMREAD_GRAYSCALE)\n",
    "        mask = (mask > 0).astype(np.float32)\n",
    "        \n",
    "        if self.aug:\n",
    "            sample = self.aug(\n",
    "                image=image,\n",
    "                mask=mask,\n",
    "            )\n",
    "        else:\n",
    "            sample = {\n",
    "                'image': image,\n",
    "                'mask': mask,\n",
    "            }\n",
    "        \n",
    "        sample['image'] = self.transform(sample['image']).float()\n",
    "        sample['image'] = transforms.Normalize((0.485, 0.456, 0.406), (0.229, 0.224, 0.225))(sample['image'])\n",
    "        \n",
    "        sample['mask'] = self.transform(sample['mask']).float()\n",
    "        return sample"
   ]
  },
  {
   "cell_type": "code",
   "execution_count": 4,
   "id": "57f2b951",
   "metadata": {},
   "outputs": [],
   "source": [
    "X_train = get_paths(\"data/train/images\")\n",
    "y_train = get_paths(\"data/train/gt\")\n",
    "train_aug = A.Compose([\n",
    "    A.HorizontalFlip(p=0.5),\n",
    "    A.RandomCrop(368, 368),\n",
    "    A.Resize(370, 370),\n",
    "    A.ShiftScaleRotate(shift_limit=0.1, scale_limit=0.1, rotate_limit=10, p=0.5),\n",
    "    A.RGBShift(r_shift_limit=10/255, g_shift_limit=10/255, b_shift_limit=10/255, p=0.5),\n",
    "])\n",
    "\n",
    "train_transform = transforms.Compose([\n",
    "    transforms.ToTensor(),\n",
    "])\n",
    "\n",
    "\n",
    "X_test = get_paths(\"data/test/images\")\n",
    "y_test = get_paths(\"data/test/gt\")\n",
    "test_transform = transforms.Compose([\n",
    "    transforms.ToTensor(),\n",
    "])"
   ]
  },
  {
   "cell_type": "code",
   "execution_count": 5,
   "id": "bc255049",
   "metadata": {},
   "outputs": [],
   "source": [
    "train_dataset = RoadDataset(X_train, y_train, train_transform, aug=train_aug)\n",
    "test_dataset = RoadDataset(X_test, y_test, test_transform)"
   ]
  },
  {
   "cell_type": "code",
   "execution_count": 6,
   "id": "9056519f",
   "metadata": {},
   "outputs": [
    {
     "name": "stderr",
     "output_type": "stream",
     "text": [
      "Clipping input data to the valid range for imshow with RGB data ([0..1] for floats or [0..255] for integers).\n"
     ]
    },
    {
     "data": {
      "text/plain": [
       "<matplotlib.image.AxesImage at 0x7f63d3681ac8>"
      ]
     },
     "execution_count": 6,
     "metadata": {},
     "output_type": "execute_result"
    },
    {
     "data": {
      "image/png": "[encoded data removed]",
      "text/plain": [
       "<Figure size 432x288 with 2 Axes>"
      ]
     },
     "metadata": {
      "needs_background": "light"
     },
     "output_type": "display_data"
    }
   ],
   "source": [
    "sample = train_dataset[4]\n",
    "image = sample['image']\n",
    "mask = sample['mask']\n",
    "\n",
    "plt.subplot(1, 2, 1)\n",
    "plt.imshow(image.permute(1, 2, 0))\n",
    "plt.subplot(1, 2, 2)\n",
    "plt.imshow(mask.permute(1, 2, 0)[...,0])"
   ]
  },
  {
   "cell_type": "markdown",
   "id": "e7a8986f",
   "metadata": {},
   "source": [
    "Workflow:\n",
    "---\n",
    "* Choose correct loss function, write training loop and code for testing. Feel free to use previous HW for inspiration. \n",
    "* Train any segmentation neural network from scratch (for example U-Net) and achieve >= 0.75 IoU on test set (40% points). See function to calculate the metric below.\n",
    "* Use any pretrained model for image classification, convert it for segmentation by adding decoder (don't forget skip-connections) or usign dilated convolutions and achieve >= 0.87 IoU  on test set (60% points).\n",
    "\n",
    "You're not allowed to do only one thing: train your network on test set.\n",
    "\n",
    "----\n",
    "Your final solution will consist of an ipython notebook with code (for final networks training + any experiments with data) and test metric calculation.\n",
    "\n",
    "Feel free to ask in Telegram chat if something is not clear :3\n"
   ]
  },
  {
   "cell_type": "code",
   "execution_count": 7,
   "id": "d91bc236",
   "metadata": {},
   "outputs": [
    {
     "name": "stdout",
     "output_type": "stream",
     "text": [
      "Train Dataset length 648\n",
      "Test Dataset length 219\n"
     ]
    }
   ],
   "source": [
    "print(f\"Train Dataset length {len(train_dataset)}\")\n",
    "print(f\"Test Dataset length {len(test_dataset)}\")"
   ]
  },
  {
   "cell_type": "markdown",
   "id": "057ee74d",
   "metadata": {},
   "source": [
    "Dataset is small so actively use data augmentation: rotations, flip, color-change etc. to prevent overfitting.\n",
    "\n",
    "Most likely you'll have to pad your images to 512x512 (it divides by 2^5=32, like U-Net wants). Use PadIfNeeded from Albumentations and central crop (see below) after prediction to calculate loss/metrics (you don't want to pay attention on padded values).\n",
    "\n",
    "----\n",
    "There is a hard data class imbalance in dataset, so the network output will be biased toward \"zero\" class. You can either tune the minimal probability threshold for the \"road\" class, or add class weights in optimized loss. You also can try to use softIoU or DICE loss."
   ]
  },
  {
   "cell_type": "markdown",
   "id": "1c0dcf8f",
   "metadata": {},
   "source": [
    "Good luck!"
   ]
  },
  {
   "cell_type": "code",
   "execution_count": 8,
   "id": "50a8610c",
   "metadata": {},
   "outputs": [],
   "source": [
    "def calc_iou(prediction, ground_truth):\n",
    "    n_images = len(prediction)\n",
    "    intersection, union = 0, 0\n",
    "    for i in range(n_images):\n",
    "        intersection += np.logical_and(prediction[i] > 0, ground_truth[i] > 0).astype(np.float32).sum() \n",
    "        union += np.logical_or(prediction[i] > 0, ground_truth[i] > 0).astype(np.float32).sum()\n",
    "    return float(intersection)/union"
   ]
  },
  {
   "cell_type": "code",
   "execution_count": 9,
   "id": "0483e274",
   "metadata": {},
   "outputs": [],
   "source": [
    "def central_crop(images, size):\n",
    "    current_size = images.size(2)\n",
    "    border_len = (current_size - size) // 2\n",
    "    images = images[:, :, border_len:current_size-border_len, border_len:current_size-border_len]\n",
    "    return images"
   ]
  },
  {
   "cell_type": "code",
   "execution_count": 10,
   "metadata": {},
   "outputs": [],
   "source": [
    "import numpy as np\n",
    "import time\n",
    "\n",
    "\n",
    "def eval_model(model, data_generator):\n",
    "    predictions = []\n",
    "    true_masks = []\n",
    "    model.train(False) # disable dropout / use averages for batch_norm\n",
    "    with torch.no_grad():\n",
    "        for sample in data_generator:\n",
    "            X_batch = sample['image']\n",
    "            y_batch = sample['mask']\n",
    "            X_batch = F.pad(X_batch, ((376-370) // 2, (376-370) // 2, (376-370) // 2, (376-370) // 2), \n",
    "                            \"constant\", 0)\n",
    "            \n",
    "            X_batch = X_batch.to(device)\n",
    "            logits = model(X_batch)\n",
    "            logits = central_crop(logits, 370)\n",
    "            y_pred = logits.max(1)[1].data\n",
    "            predictions.append(y_pred.cpu())\n",
    "            true_masks.append(y_batch.cpu())\n",
    "    predictions = torch.cat(predictions, dim=0)\n",
    "    true_masks = torch.cat(true_masks, dim=0)\n",
    "    return calc_iou(predictions.numpy(), true_masks.numpy())\n",
    "\n",
    "            \n",
    "def train_model(model, optimizer, train_data_generator):\n",
    "    criterion = nn.CrossEntropyLoss(weight=torch.tensor([0.4, 0.6])).to(device)\n",
    "    train_loss = []\n",
    "    model.train(True) # enable dropout / batch_norm training behavior\n",
    "    for sample in tqdm.tqdm(train_data_generator):\n",
    "        X_batch = sample['image']\n",
    "        y_batch = sample['mask']\n",
    "        X_batch = F.pad(X_batch, ((376-370) // 2, (376-370) // 2, (376-370) // 2, (376-370) // 2), \n",
    "                        \"constant\", 0)\n",
    "        \n",
    "        X_batch = X_batch.to(device)\n",
    "        y_batch = torch.squeeze(y_batch, 1).to(device, dtype=torch.long) \n",
    "        predictions = central_crop(model(X_batch), 370)\n",
    "        \n",
    "        loss = criterion(predictions, y_batch)\n",
    "        optimizer.zero_grad()\n",
    "        loss.backward()\n",
    "        optimizer.step()\n",
    "        train_loss.append(loss.cpu().data.numpy())\n",
    "    return np.mean(train_loss)\n",
    "\n",
    "\n",
    "def train_loop(model, optimizer, train_data_generator, val_data_generator, \n",
    "               epochs_for_lr_decay=[], num_epochs=1):\n",
    "    \"\"\"\n",
    "    num_epochs - total amount of full passes over training data\n",
    "    \"\"\"\n",
    "    for epoch in range(num_epochs):\n",
    "        start_time = time.time()\n",
    "        \n",
    "        if epoch in epochs_for_lr_decay:\n",
    "            for param_group in optimizer.param_groups:\n",
    "                param_group['lr'] = param_group['lr'] / 10\n",
    "        \n",
    "        train_loss = train_model(model, optimizer, train_data_generator)  \n",
    "        val_accuracy = eval_model(model, val_data_generator)\n",
    "\n",
    "        # Then we print the results for this epoch:\n",
    "        print(\"Epoch {} of {} took {:.3f}s\".format(epoch + 1, num_epochs, time.time() - start_time))\n",
    "        print(\"  training loss (in-iteration): \\t{:.6f}\".format(train_loss))\n",
    "        print(\"  validation iou: \\t\\t\\t{:.3f} \".format(val_accuracy))"
   ]
  },
  {
   "cell_type": "code",
   "execution_count": 11,
   "metadata": {},
   "outputs": [],
   "source": [
    "def double_conv(in_channels, out_channels):\n",
    "    return nn.Sequential(\n",
    "        nn.Conv2d(in_channels, out_channels, 3, padding=1),\n",
    "        nn.BatchNorm2d(out_channels),\n",
    "        nn.ReLU(inplace=True),\n",
    "        nn.Conv2d(out_channels, out_channels, 3, padding=1),\n",
    "        nn.BatchNorm2d(out_channels),\n",
    "        nn.ReLU(inplace=True)\n",
    "    )   \n",
    "\n",
    "\n",
    "class UNet(nn.Module):\n",
    "\n",
    "    def __init__(self, n_class=2):\n",
    "        super().__init__()\n",
    "                \n",
    "        self.dconv_down1 = double_conv(3, 16)\n",
    "        self.dconv_down2 = double_conv(16, 32)\n",
    "        self.dconv_down3 = double_conv(32, 64)\n",
    "        self.dconv_down4 = double_conv(64, 128)        \n",
    "\n",
    "        self.maxpool = nn.MaxPool2d(2)\n",
    "        self.upsample = nn.Upsample(scale_factor=2, mode='bilinear', align_corners=True)        \n",
    "        \n",
    "        self.dconv_up3 = double_conv(64 + 128, 64)\n",
    "        self.dconv_up2 = double_conv(32 + 64, 32)\n",
    "        self.dconv_up1 = double_conv(32 + 16, 16)\n",
    "        \n",
    "        self.conv_last = nn.Conv2d(16, n_class, 1)\n",
    "        \n",
    "        \n",
    "    def forward(self, x):\n",
    "        conv1 = self.dconv_down1(x)\n",
    "        x = self.maxpool(conv1)\n",
    "\n",
    "        conv2 = self.dconv_down2(x)\n",
    "        x = self.maxpool(conv2)\n",
    "        \n",
    "        conv3 = self.dconv_down3(x)\n",
    "        x = self.maxpool(conv3)   \n",
    "        \n",
    "        x = self.dconv_down4(x)\n",
    "        \n",
    "        x = self.upsample(x)        \n",
    "        x = torch.cat([x, conv3], dim=1)\n",
    "        \n",
    "        x = self.dconv_up3(x)\n",
    "        x = self.upsample(x)        \n",
    "        x = torch.cat([x, conv2], dim=1)       \n",
    "\n",
    "        x = self.dconv_up2(x)\n",
    "        x = self.upsample(x)        \n",
    "        x = torch.cat([x, conv1], dim=1)   \n",
    "        \n",
    "        x = self.dconv_up1(x)\n",
    "        \n",
    "        out = self.conv_last(x)\n",
    "        \n",
    "        return out"
   ]
  },
  {
   "cell_type": "markdown",
   "metadata": {},
   "source": [
    "# Training UNET from scratch"
   ]
  },
  {
   "cell_type": "code",
   "execution_count": 12,
   "metadata": {},
   "outputs": [],
   "source": [
    "unet = UNet().to(device)\n",
    "optimizer = torch.optim.Adam(unet.parameters(), weight_decay=1e-5)\n",
    "\n",
    "batch_size = 12\n",
    "train_batch_gen = torch.utils.data.DataLoader(train_dataset, \n",
    "                                              batch_size=batch_size,\n",
    "                                              shuffle=True,\n",
    "                                              num_workers=4)\n",
    "\n",
    "test_batch_gen = torch.utils.data.DataLoader(test_dataset, \n",
    "                                              batch_size=batch_size,\n",
    "                                              shuffle=False,\n",
    "                                              num_workers=4)"
   ]
  },
  {
   "cell_type": "code",
   "execution_count": 13,
   "metadata": {},
   "outputs": [
    {
     "name": "stderr",
     "output_type": "stream",
     "text": [
      "100%|██████████| 54/54 [00:50<00:00,  1.06it/s]\n",
      "  0%|          | 0/54 [00:00<?, ?it/s]"
     ]
    },
    {
     "name": "stdout",
     "output_type": "stream",
     "text": [
      "Epoch 1 of 40 took 58.451s\n",
      "  training loss (in-iteration): \t0.379643\n",
      "  validation iou: \t\t\t0.622 \n"
     ]
    },
    {
     "name": "stderr",
     "output_type": "stream",
     "text": [
      "100%|██████████| 54/54 [00:41<00:00,  1.31it/s]\n",
      "  0%|          | 0/54 [00:00<?, ?it/s]"
     ]
    },
    {
     "name": "stdout",
     "output_type": "stream",
     "text": [
      "Epoch 2 of 40 took 46.757s\n",
      "  training loss (in-iteration): \t0.280173\n",
      "  validation iou: \t\t\t0.583 \n"
     ]
    },
    {
     "name": "stderr",
     "output_type": "stream",
     "text": [
      "100%|██████████| 54/54 [00:41<00:00,  1.31it/s]\n",
      "  0%|          | 0/54 [00:00<?, ?it/s]"
     ]
    },
    {
     "name": "stdout",
     "output_type": "stream",
     "text": [
      "Epoch 3 of 40 took 46.029s\n",
      "  training loss (in-iteration): \t0.251171\n",
      "  validation iou: \t\t\t0.648 \n"
     ]
    },
    {
     "name": "stderr",
     "output_type": "stream",
     "text": [
      "100%|██████████| 54/54 [00:39<00:00,  1.35it/s]\n",
      "  0%|          | 0/54 [00:00<?, ?it/s]"
     ]
    },
    {
     "name": "stdout",
     "output_type": "stream",
     "text": [
      "Epoch 4 of 40 took 44.837s\n",
      "  training loss (in-iteration): \t0.226307\n",
      "  validation iou: \t\t\t0.664 \n"
     ]
    },
    {
     "name": "stderr",
     "output_type": "stream",
     "text": [
      "100%|██████████| 54/54 [00:40<00:00,  1.35it/s]\n",
      "  0%|          | 0/54 [00:00<?, ?it/s]"
     ]
    },
    {
     "name": "stdout",
     "output_type": "stream",
     "text": [
      "Epoch 5 of 40 took 45.194s\n",
      "  training loss (in-iteration): \t0.216606\n",
      "  validation iou: \t\t\t0.663 \n"
     ]
    },
    {
     "name": "stderr",
     "output_type": "stream",
     "text": [
      "100%|██████████| 54/54 [00:40<00:00,  1.35it/s]\n",
      "  0%|          | 0/54 [00:00<?, ?it/s]"
     ]
    },
    {
     "name": "stdout",
     "output_type": "stream",
     "text": [
      "Epoch 6 of 40 took 45.142s\n",
      "  training loss (in-iteration): \t0.205887\n",
      "  validation iou: \t\t\t0.682 \n"
     ]
    },
    {
     "name": "stderr",
     "output_type": "stream",
     "text": [
      "100%|██████████| 54/54 [00:40<00:00,  1.34it/s]\n",
      "  0%|          | 0/54 [00:00<?, ?it/s]"
     ]
    },
    {
     "name": "stdout",
     "output_type": "stream",
     "text": [
      "Epoch 7 of 40 took 45.142s\n",
      "  training loss (in-iteration): \t0.204979\n",
      "  validation iou: \t\t\t0.691 \n"
     ]
    },
    {
     "name": "stderr",
     "output_type": "stream",
     "text": [
      "100%|██████████| 54/54 [00:40<00:00,  1.35it/s]\n",
      "  0%|          | 0/54 [00:00<?, ?it/s]"
     ]
    },
    {
     "name": "stdout",
     "output_type": "stream",
     "text": [
      "Epoch 8 of 40 took 45.173s\n",
      "  training loss (in-iteration): \t0.197714\n",
      "  validation iou: \t\t\t0.675 \n"
     ]
    },
    {
     "name": "stderr",
     "output_type": "stream",
     "text": [
      "100%|██████████| 54/54 [00:40<00:00,  1.34it/s]\n",
      "  0%|          | 0/54 [00:00<?, ?it/s]"
     ]
    },
    {
     "name": "stdout",
     "output_type": "stream",
     "text": [
      "Epoch 9 of 40 took 45.498s\n",
      "  training loss (in-iteration): \t0.189428\n",
      "  validation iou: \t\t\t0.685 \n"
     ]
    },
    {
     "name": "stderr",
     "output_type": "stream",
     "text": [
      "100%|██████████| 54/54 [00:40<00:00,  1.34it/s]\n",
      "  0%|          | 0/54 [00:00<?, ?it/s]"
     ]
    },
    {
     "name": "stdout",
     "output_type": "stream",
     "text": [
      "Epoch 10 of 40 took 45.428s\n",
      "  training loss (in-iteration): \t0.181262\n",
      "  validation iou: \t\t\t0.705 \n"
     ]
    },
    {
     "name": "stderr",
     "output_type": "stream",
     "text": [
      "100%|██████████| 54/54 [00:40<00:00,  1.34it/s]\n",
      "  0%|          | 0/54 [00:00<?, ?it/s]"
     ]
    },
    {
     "name": "stdout",
     "output_type": "stream",
     "text": [
      "Epoch 11 of 40 took 45.291s\n",
      "  training loss (in-iteration): \t0.183367\n",
      "  validation iou: \t\t\t0.673 \n"
     ]
    },
    {
     "name": "stderr",
     "output_type": "stream",
     "text": [
      "100%|██████████| 54/54 [00:41<00:00,  1.32it/s]\n",
      "  0%|          | 0/54 [00:00<?, ?it/s]"
     ]
    },
    {
     "name": "stdout",
     "output_type": "stream",
     "text": [
      "Epoch 12 of 40 took 46.926s\n",
      "  training loss (in-iteration): \t0.189660\n",
      "  validation iou: \t\t\t0.731 \n"
     ]
    },
    {
     "name": "stderr",
     "output_type": "stream",
     "text": [
      "100%|██████████| 54/54 [00:41<00:00,  1.31it/s]\n",
      "  0%|          | 0/54 [00:00<?, ?it/s]"
     ]
    },
    {
     "name": "stdout",
     "output_type": "stream",
     "text": [
      "Epoch 13 of 40 took 46.431s\n",
      "  training loss (in-iteration): \t0.173707\n",
      "  validation iou: \t\t\t0.724 \n"
     ]
    },
    {
     "name": "stderr",
     "output_type": "stream",
     "text": [
      "100%|██████████| 54/54 [00:40<00:00,  1.34it/s]\n",
      "  0%|          | 0/54 [00:00<?, ?it/s]"
     ]
    },
    {
     "name": "stdout",
     "output_type": "stream",
     "text": [
      "Epoch 14 of 40 took 45.374s\n",
      "  training loss (in-iteration): \t0.170385\n",
      "  validation iou: \t\t\t0.725 \n"
     ]
    },
    {
     "name": "stderr",
     "output_type": "stream",
     "text": [
      "100%|██████████| 54/54 [00:40<00:00,  1.34it/s]\n",
      "  0%|          | 0/54 [00:00<?, ?it/s]"
     ]
    },
    {
     "name": "stdout",
     "output_type": "stream",
     "text": [
      "Epoch 15 of 40 took 45.427s\n",
      "  training loss (in-iteration): \t0.170893\n",
      "  validation iou: \t\t\t0.745 \n"
     ]
    },
    {
     "name": "stderr",
     "output_type": "stream",
     "text": [
      "100%|██████████| 54/54 [00:40<00:00,  1.33it/s]\n",
      "  0%|          | 0/54 [00:00<?, ?it/s]"
     ]
    },
    {
     "name": "stdout",
     "output_type": "stream",
     "text": [
      "Epoch 16 of 40 took 45.779s\n",
      "  training loss (in-iteration): \t0.174913\n",
      "  validation iou: \t\t\t0.729 \n"
     ]
    },
    {
     "name": "stderr",
     "output_type": "stream",
     "text": [
      "100%|██████████| 54/54 [00:40<00:00,  1.33it/s]\n",
      "  0%|          | 0/54 [00:00<?, ?it/s]"
     ]
    },
    {
     "name": "stdout",
     "output_type": "stream",
     "text": [
      "Epoch 17 of 40 took 45.677s\n",
      "  training loss (in-iteration): \t0.167437\n",
      "  validation iou: \t\t\t0.741 \n"
     ]
    },
    {
     "name": "stderr",
     "output_type": "stream",
     "text": [
      "100%|██████████| 54/54 [00:40<00:00,  1.34it/s]\n",
      "  0%|          | 0/54 [00:00<?, ?it/s]"
     ]
    },
    {
     "name": "stdout",
     "output_type": "stream",
     "text": [
      "Epoch 18 of 40 took 45.812s\n",
      "  training loss (in-iteration): \t0.162057\n",
      "  validation iou: \t\t\t0.737 \n"
     ]
    },
    {
     "name": "stderr",
     "output_type": "stream",
     "text": [
      "100%|██████████| 54/54 [00:40<00:00,  1.33it/s]\n",
      "  0%|          | 0/54 [00:00<?, ?it/s]"
     ]
    },
    {
     "name": "stdout",
     "output_type": "stream",
     "text": [
      "Epoch 19 of 40 took 45.914s\n",
      "  training loss (in-iteration): \t0.156819\n",
      "  validation iou: \t\t\t0.744 \n"
     ]
    },
    {
     "name": "stderr",
     "output_type": "stream",
     "text": [
      "100%|██████████| 54/54 [00:41<00:00,  1.32it/s]\n",
      "  0%|          | 0/54 [00:00<?, ?it/s]"
     ]
    },
    {
     "name": "stdout",
     "output_type": "stream",
     "text": [
      "Epoch 20 of 40 took 46.539s\n",
      "  training loss (in-iteration): \t0.151409\n",
      "  validation iou: \t\t\t0.780 \n"
     ]
    },
    {
     "name": "stderr",
     "output_type": "stream",
     "text": [
      "100%|██████████| 54/54 [00:41<00:00,  1.29it/s]\n",
      "  0%|          | 0/54 [00:00<?, ?it/s]"
     ]
    },
    {
     "name": "stdout",
     "output_type": "stream",
     "text": [
      "Epoch 21 of 40 took 48.323s\n",
      "  training loss (in-iteration): \t0.135898\n",
      "  validation iou: \t\t\t0.789 \n"
     ]
    },
    {
     "name": "stderr",
     "output_type": "stream",
     "text": [
      "100%|██████████| 54/54 [00:41<00:00,  1.29it/s]\n",
      "  0%|          | 0/54 [00:00<?, ?it/s]"
     ]
    },
    {
     "name": "stdout",
     "output_type": "stream",
     "text": [
      "Epoch 22 of 40 took 47.260s\n",
      "  training loss (in-iteration): \t0.130376\n",
      "  validation iou: \t\t\t0.790 \n"
     ]
    },
    {
     "name": "stderr",
     "output_type": "stream",
     "text": [
      "100%|██████████| 54/54 [00:40<00:00,  1.32it/s]\n",
      "  0%|          | 0/54 [00:00<?, ?it/s]"
     ]
    },
    {
     "name": "stdout",
     "output_type": "stream",
     "text": [
      "Epoch 23 of 40 took 46.253s\n",
      "  training loss (in-iteration): \t0.124368\n",
      "  validation iou: \t\t\t0.796 \n"
     ]
    },
    {
     "name": "stderr",
     "output_type": "stream",
     "text": [
      "100%|██████████| 54/54 [00:41<00:00,  1.31it/s]\n",
      "  0%|          | 0/54 [00:00<?, ?it/s]"
     ]
    },
    {
     "name": "stdout",
     "output_type": "stream",
     "text": [
      "Epoch 24 of 40 took 46.877s\n",
      "  training loss (in-iteration): \t0.128256\n",
      "  validation iou: \t\t\t0.796 \n"
     ]
    },
    {
     "name": "stderr",
     "output_type": "stream",
     "text": [
      "100%|██████████| 54/54 [00:40<00:00,  1.33it/s]\n",
      "  0%|          | 0/54 [00:00<?, ?it/s]"
     ]
    },
    {
     "name": "stdout",
     "output_type": "stream",
     "text": [
      "Epoch 25 of 40 took 45.857s\n",
      "  training loss (in-iteration): \t0.122302\n",
      "  validation iou: \t\t\t0.795 \n"
     ]
    },
    {
     "name": "stderr",
     "output_type": "stream",
     "text": [
      "100%|██████████| 54/54 [00:40<00:00,  1.34it/s]\n",
      "  0%|          | 0/54 [00:00<?, ?it/s]"
     ]
    },
    {
     "name": "stdout",
     "output_type": "stream",
     "text": [
      "Epoch 26 of 40 took 45.518s\n",
      "  training loss (in-iteration): \t0.128586\n",
      "  validation iou: \t\t\t0.806 \n"
     ]
    },
    {
     "name": "stderr",
     "output_type": "stream",
     "text": [
      "100%|██████████| 54/54 [00:40<00:00,  1.34it/s]\n",
      "  0%|          | 0/54 [00:00<?, ?it/s]"
     ]
    },
    {
     "name": "stdout",
     "output_type": "stream",
     "text": [
      "Epoch 27 of 40 took 45.580s\n",
      "  training loss (in-iteration): \t0.122095\n",
      "  validation iou: \t\t\t0.803 \n"
     ]
    },
    {
     "name": "stderr",
     "output_type": "stream",
     "text": [
      "100%|██████████| 54/54 [00:40<00:00,  1.33it/s]\n",
      "  0%|          | 0/54 [00:00<?, ?it/s]"
     ]
    },
    {
     "name": "stdout",
     "output_type": "stream",
     "text": [
      "Epoch 28 of 40 took 45.836s\n",
      "  training loss (in-iteration): \t0.120932\n",
      "  validation iou: \t\t\t0.800 \n"
     ]
    },
    {
     "name": "stderr",
     "output_type": "stream",
     "text": [
      "100%|██████████| 54/54 [00:40<00:00,  1.33it/s]\n",
      "  0%|          | 0/54 [00:00<?, ?it/s]"
     ]
    },
    {
     "name": "stdout",
     "output_type": "stream",
     "text": [
      "Epoch 29 of 40 took 45.781s\n",
      "  training loss (in-iteration): \t0.121320\n",
      "  validation iou: \t\t\t0.804 \n"
     ]
    },
    {
     "name": "stderr",
     "output_type": "stream",
     "text": [
      "100%|██████████| 54/54 [00:40<00:00,  1.33it/s]\n",
      "  0%|          | 0/54 [00:00<?, ?it/s]"
     ]
    },
    {
     "name": "stdout",
     "output_type": "stream",
     "text": [
      "Epoch 30 of 40 took 45.760s\n",
      "  training loss (in-iteration): \t0.118078\n",
      "  validation iou: \t\t\t0.807 \n"
     ]
    },
    {
     "name": "stderr",
     "output_type": "stream",
     "text": [
      "100%|██████████| 54/54 [00:40<00:00,  1.34it/s]\n",
      "  0%|          | 0/54 [00:00<?, ?it/s]"
     ]
    },
    {
     "name": "stdout",
     "output_type": "stream",
     "text": [
      "Epoch 31 of 40 took 45.516s\n",
      "  training loss (in-iteration): \t0.117716\n",
      "  validation iou: \t\t\t0.807 \n"
     ]
    },
    {
     "name": "stderr",
     "output_type": "stream",
     "text": [
      "100%|██████████| 54/54 [00:40<00:00,  1.34it/s]\n",
      "  0%|          | 0/54 [00:00<?, ?it/s]"
     ]
    },
    {
     "name": "stdout",
     "output_type": "stream",
     "text": [
      "Epoch 32 of 40 took 45.396s\n",
      "  training loss (in-iteration): \t0.112945\n",
      "  validation iou: \t\t\t0.811 \n"
     ]
    },
    {
     "name": "stderr",
     "output_type": "stream",
     "text": [
      "100%|██████████| 54/54 [00:40<00:00,  1.34it/s]\n",
      "  0%|          | 0/54 [00:00<?, ?it/s]"
     ]
    },
    {
     "name": "stdout",
     "output_type": "stream",
     "text": [
      "Epoch 33 of 40 took 45.337s\n",
      "  training loss (in-iteration): \t0.117429\n",
      "  validation iou: \t\t\t0.810 \n"
     ]
    },
    {
     "name": "stderr",
     "output_type": "stream",
     "text": [
      "100%|██████████| 54/54 [00:40<00:00,  1.34it/s]\n",
      "  0%|          | 0/54 [00:00<?, ?it/s]"
     ]
    },
    {
     "name": "stdout",
     "output_type": "stream",
     "text": [
      "Epoch 34 of 40 took 45.438s\n",
      "  training loss (in-iteration): \t0.112084\n",
      "  validation iou: \t\t\t0.809 \n"
     ]
    },
    {
     "name": "stderr",
     "output_type": "stream",
     "text": [
      "100%|██████████| 54/54 [00:40<00:00,  1.33it/s]\n",
      "  0%|          | 0/54 [00:00<?, ?it/s]"
     ]
    },
    {
     "name": "stdout",
     "output_type": "stream",
     "text": [
      "Epoch 35 of 40 took 45.593s\n",
      "  training loss (in-iteration): \t0.116588\n",
      "  validation iou: \t\t\t0.810 \n"
     ]
    },
    {
     "name": "stderr",
     "output_type": "stream",
     "text": [
      "100%|██████████| 54/54 [00:41<00:00,  1.32it/s]\n",
      "  0%|          | 0/54 [00:00<?, ?it/s]"
     ]
    },
    {
     "name": "stdout",
     "output_type": "stream",
     "text": [
      "Epoch 36 of 40 took 46.647s\n",
      "  training loss (in-iteration): \t0.113977\n",
      "  validation iou: \t\t\t0.810 \n"
     ]
    },
    {
     "name": "stderr",
     "output_type": "stream",
     "text": [
      "100%|██████████| 54/54 [00:40<00:00,  1.33it/s]\n",
      "  0%|          | 0/54 [00:00<?, ?it/s]"
     ]
    },
    {
     "name": "stdout",
     "output_type": "stream",
     "text": [
      "Epoch 37 of 40 took 46.440s\n",
      "  training loss (in-iteration): \t0.113315\n",
      "  validation iou: \t\t\t0.810 \n"
     ]
    },
    {
     "name": "stderr",
     "output_type": "stream",
     "text": [
      "100%|██████████| 54/54 [00:41<00:00,  1.31it/s]\n",
      "  0%|          | 0/54 [00:00<?, ?it/s]"
     ]
    },
    {
     "name": "stdout",
     "output_type": "stream",
     "text": [
      "Epoch 38 of 40 took 46.770s\n",
      "  training loss (in-iteration): \t0.120886\n",
      "  validation iou: \t\t\t0.811 \n"
     ]
    },
    {
     "name": "stderr",
     "output_type": "stream",
     "text": [
      "100%|██████████| 54/54 [00:41<00:00,  1.31it/s]\n",
      "  0%|          | 0/54 [00:00<?, ?it/s]"
     ]
    },
    {
     "name": "stdout",
     "output_type": "stream",
     "text": [
      "Epoch 39 of 40 took 46.109s\n",
      "  training loss (in-iteration): \t0.119892\n",
      "  validation iou: \t\t\t0.812 \n"
     ]
    },
    {
     "name": "stderr",
     "output_type": "stream",
     "text": [
      "100%|██████████| 54/54 [00:40<00:00,  1.34it/s]\n"
     ]
    },
    {
     "name": "stdout",
     "output_type": "stream",
     "text": [
      "Epoch 40 of 40 took 45.423s\n",
      "  training loss (in-iteration): \t0.117563\n",
      "  validation iou: \t\t\t0.810 \n"
     ]
    }
   ],
   "source": [
    "train_loop(unet, optimizer, train_batch_gen, test_batch_gen, epochs_for_lr_decay=[20, 30], num_epochs=40)"
   ]
  },
  {
   "cell_type": "code",
   "execution_count": 14,
   "metadata": {},
   "outputs": [
    {
     "name": "stdout",
     "output_type": "stream",
     "text": [
      "Final test iou for unet: \t\t\t0.810 \n"
     ]
    }
   ],
   "source": [
    "val_accuracy = eval_model(unet, test_batch_gen)\n",
    "print(\"Final test iou for unet: \\t\\t\\t{:.3f} \".format(val_accuracy))"
   ]
  },
  {
   "cell_type": "markdown",
   "metadata": {},
   "source": [
    "# Training using pretrained classifier"
   ]
  },
  {
   "cell_type": "markdown",
   "metadata": {},
   "source": [
    "Сделаем модель, в которой энкодер - часть предобученного резнета, а декодер состоит из рез-блоков."
   ]
  },
  {
   "cell_type": "code",
   "execution_count": 15,
   "metadata": {},
   "outputs": [],
   "source": [
    "class ResNetBlock(nn.Module):\n",
    "    def __init__(self, ich, outch):\n",
    "        super().__init__()\n",
    "        self.conv1 = nn.Conv2d(ich, outch, 3, 1, 1)\n",
    "        self.bn1 = nn.BatchNorm2d(outch)\n",
    "        self.conv2 = nn.Conv2d(outch, outch, 3, 1, 1)\n",
    "        self.bn2 = nn.BatchNorm2d(outch)\n",
    "        self.relu = nn.ReLU()\n",
    "        self.skip = nn.Conv2d(ich, outch, 1)\n",
    "        \n",
    "    def forward(self, x):\n",
    "        skip = self.skip(x)\n",
    "        x = self.bn2(self.conv2(self.relu(self.bn1(self.conv1(x)))))\n",
    "        return self.relu(x + skip)\n",
    "        \n",
    "\n",
    "class SegResNet(nn.Module):\n",
    "\n",
    "    def __init__(self, n_class=2):\n",
    "        super().__init__()\n",
    "        resnet18 = models.resnet18(pretrained=True)\n",
    "        self.encoder = nn.Sequential(resnet18.conv1,resnet18.bn1, resnet18.relu, \n",
    "                        resnet18.maxpool, resnet18.layer1, resnet18.layer2, resnet18.layer3)\n",
    "                       \n",
    "        self.upsample = nn.PixelShuffle(2)\n",
    "        self.res0 = ResNetBlock(256, 256)\n",
    "        self.res1 = ResNetBlock(64, 128)\n",
    "        self.res2 = ResNetBlock(32, 128)\n",
    "        self.res3 = ResNetBlock(32, 128)\n",
    "        self.res4 = ResNetBlock(32, 16)\n",
    "        self.conv_last = nn.Conv2d(16, n_class, 1)\n",
    "        self.decoder = nn.Sequential(self.res0, self.upsample, self.res1, self.upsample, self.res2,\n",
    "                                     self.upsample, self.res3, self.upsample, self.res4)\n",
    "        \n",
    "        \n",
    "    def forward(self, x):\n",
    "        x = self.encoder(x)\n",
    "        x = self.decoder(x)\n",
    "        return self.conv_last(x)"
   ]
  },
  {
   "cell_type": "code",
   "execution_count": 16,
   "metadata": {},
   "outputs": [],
   "source": [
    "torch.cuda.empty_cache()\n",
    "\n",
    "batch_size = 8\n",
    "train_batch_gen = torch.utils.data.DataLoader(train_dataset, \n",
    "                                              batch_size=batch_size,\n",
    "                                              shuffle=True,\n",
    "                                              num_workers=4)\n",
    "\n",
    "test_batch_gen = torch.utils.data.DataLoader(test_dataset, \n",
    "                                              batch_size=batch_size,\n",
    "                                              shuffle=False,\n",
    "                                              num_workers=4)"
   ]
  },
  {
   "cell_type": "code",
   "execution_count": 17,
   "metadata": {},
   "outputs": [],
   "source": [
    "seg_resnet = SegResNet().to(device)\n",
    "optimizer = torch.optim.Adam([\n",
    "        {'params': seg_resnet.decoder.parameters()},\n",
    "        {'params': seg_resnet.conv_last.parameters()},\n",
    "        {'params': seg_resnet.encoder.parameters(), 'lr': 1e-4}\n",
    "    ], lr=1e-3, weight_decay=1e-4)"
   ]
  },
  {
   "cell_type": "code",
   "execution_count": 18,
   "metadata": {},
   "outputs": [
    {
     "name": "stderr",
     "output_type": "stream",
     "text": [
      "100%|██████████| 81/81 [00:51<00:00,  1.58it/s]\n",
      "  0%|          | 0/81 [00:00<?, ?it/s]"
     ]
    },
    {
     "name": "stdout",
     "output_type": "stream",
     "text": [
      "Epoch 1 of 40 took 58.649s\n",
      "  training loss (in-iteration): \t0.270476\n",
      "  validation iou: \t\t\t0.829 \n"
     ]
    },
    {
     "name": "stderr",
     "output_type": "stream",
     "text": [
      "100%|██████████| 81/81 [00:51<00:00,  1.56it/s]\n",
      "  0%|          | 0/81 [00:00<?, ?it/s]"
     ]
    },
    {
     "name": "stdout",
     "output_type": "stream",
     "text": [
      "Epoch 2 of 40 took 58.911s\n",
      "  training loss (in-iteration): \t0.122575\n",
      "  validation iou: \t\t\t0.857 \n"
     ]
    },
    {
     "name": "stderr",
     "output_type": "stream",
     "text": [
      "100%|██████████| 81/81 [00:51<00:00,  1.58it/s]\n",
      "  0%|          | 0/81 [00:00<?, ?it/s]"
     ]
    },
    {
     "name": "stdout",
     "output_type": "stream",
     "text": [
      "Epoch 3 of 40 took 58.478s\n",
      "  training loss (in-iteration): \t0.088157\n",
      "  validation iou: \t\t\t0.864 \n"
     ]
    },
    {
     "name": "stderr",
     "output_type": "stream",
     "text": [
      "100%|██████████| 81/81 [00:50<00:00,  1.60it/s]\n",
      "  0%|          | 0/81 [00:00<?, ?it/s]"
     ]
    },
    {
     "name": "stdout",
     "output_type": "stream",
     "text": [
      "Epoch 4 of 40 took 57.895s\n",
      "  training loss (in-iteration): \t0.084449\n",
      "  validation iou: \t\t\t0.878 \n"
     ]
    },
    {
     "name": "stderr",
     "output_type": "stream",
     "text": [
      "100%|██████████| 81/81 [00:51<00:00,  1.57it/s]\n",
      "  0%|          | 0/81 [00:00<?, ?it/s]"
     ]
    },
    {
     "name": "stdout",
     "output_type": "stream",
     "text": [
      "Epoch 5 of 40 took 58.791s\n",
      "  training loss (in-iteration): \t0.073725\n",
      "  validation iou: \t\t\t0.892 \n"
     ]
    },
    {
     "name": "stderr",
     "output_type": "stream",
     "text": [
      "100%|██████████| 81/81 [00:51<00:00,  1.59it/s]\n",
      "  0%|          | 0/81 [00:00<?, ?it/s]"
     ]
    },
    {
     "name": "stdout",
     "output_type": "stream",
     "text": [
      "Epoch 6 of 40 took 58.336s\n",
      "  training loss (in-iteration): \t0.071131\n",
      "  validation iou: \t\t\t0.879 \n"
     ]
    },
    {
     "name": "stderr",
     "output_type": "stream",
     "text": [
      "100%|██████████| 81/81 [00:51<00:00,  1.58it/s]\n",
      "  0%|          | 0/81 [00:00<?, ?it/s]"
     ]
    },
    {
     "name": "stdout",
     "output_type": "stream",
     "text": [
      "Epoch 7 of 40 took 58.330s\n",
      "  training loss (in-iteration): \t0.056469\n",
      "  validation iou: \t\t\t0.890 \n"
     ]
    },
    {
     "name": "stderr",
     "output_type": "stream",
     "text": [
      "100%|██████████| 81/81 [00:50<00:00,  1.59it/s]\n",
      "  0%|          | 0/81 [00:00<?, ?it/s]"
     ]
    },
    {
     "name": "stdout",
     "output_type": "stream",
     "text": [
      "Epoch 8 of 40 took 57.939s\n",
      "  training loss (in-iteration): \t0.055522\n",
      "  validation iou: \t\t\t0.889 \n"
     ]
    },
    {
     "name": "stderr",
     "output_type": "stream",
     "text": [
      "100%|██████████| 81/81 [00:50<00:00,  1.59it/s]\n",
      "  0%|          | 0/81 [00:00<?, ?it/s]"
     ]
    },
    {
     "name": "stdout",
     "output_type": "stream",
     "text": [
      "Epoch 9 of 40 took 57.792s\n",
      "  training loss (in-iteration): \t0.055732\n",
      "  validation iou: \t\t\t0.894 \n"
     ]
    },
    {
     "name": "stderr",
     "output_type": "stream",
     "text": [
      "100%|██████████| 81/81 [00:50<00:00,  1.59it/s]\n",
      "  0%|          | 0/81 [00:00<?, ?it/s]"
     ]
    },
    {
     "name": "stdout",
     "output_type": "stream",
     "text": [
      "Epoch 10 of 40 took 58.139s\n",
      "  training loss (in-iteration): \t0.055143\n",
      "  validation iou: \t\t\t0.894 \n"
     ]
    },
    {
     "name": "stderr",
     "output_type": "stream",
     "text": [
      "100%|██████████| 81/81 [00:51<00:00,  1.57it/s]\n",
      "  0%|          | 0/81 [00:00<?, ?it/s]"
     ]
    },
    {
     "name": "stdout",
     "output_type": "stream",
     "text": [
      "Epoch 11 of 40 took 58.994s\n",
      "  training loss (in-iteration): \t0.048440\n",
      "  validation iou: \t\t\t0.905 \n"
     ]
    },
    {
     "name": "stderr",
     "output_type": "stream",
     "text": [
      "100%|██████████| 81/81 [00:51<00:00,  1.57it/s]\n",
      "  0%|          | 0/81 [00:00<?, ?it/s]"
     ]
    },
    {
     "name": "stdout",
     "output_type": "stream",
     "text": [
      "Epoch 12 of 40 took 58.474s\n",
      "  training loss (in-iteration): \t0.042725\n",
      "  validation iou: \t\t\t0.893 \n"
     ]
    },
    {
     "name": "stderr",
     "output_type": "stream",
     "text": [
      "100%|██████████| 81/81 [00:51<00:00,  1.59it/s]\n",
      "  0%|          | 0/81 [00:00<?, ?it/s]"
     ]
    },
    {
     "name": "stdout",
     "output_type": "stream",
     "text": [
      "Epoch 13 of 40 took 58.114s\n",
      "  training loss (in-iteration): \t0.044414\n",
      "  validation iou: \t\t\t0.901 \n"
     ]
    },
    {
     "name": "stderr",
     "output_type": "stream",
     "text": [
      "100%|██████████| 81/81 [00:51<00:00,  1.58it/s]\n",
      "  0%|          | 0/81 [00:00<?, ?it/s]"
     ]
    },
    {
     "name": "stdout",
     "output_type": "stream",
     "text": [
      "Epoch 14 of 40 took 58.382s\n",
      "  training loss (in-iteration): \t0.039620\n",
      "  validation iou: \t\t\t0.893 \n"
     ]
    },
    {
     "name": "stderr",
     "output_type": "stream",
     "text": [
      "100%|██████████| 81/81 [00:51<00:00,  1.57it/s]\n",
      "  0%|          | 0/81 [00:00<?, ?it/s]"
     ]
    },
    {
     "name": "stdout",
     "output_type": "stream",
     "text": [
      "Epoch 15 of 40 took 59.525s\n",
      "  training loss (in-iteration): \t0.041110\n",
      "  validation iou: \t\t\t0.897 \n"
     ]
    },
    {
     "name": "stderr",
     "output_type": "stream",
     "text": [
      "100%|██████████| 81/81 [00:51<00:00,  1.57it/s]\n",
      "  0%|          | 0/81 [00:00<?, ?it/s]"
     ]
    },
    {
     "name": "stdout",
     "output_type": "stream",
     "text": [
      "Epoch 16 of 40 took 58.710s\n",
      "  training loss (in-iteration): \t0.038393\n",
      "  validation iou: \t\t\t0.869 \n"
     ]
    },
    {
     "name": "stderr",
     "output_type": "stream",
     "text": [
      "100%|██████████| 81/81 [00:51<00:00,  1.58it/s]\n",
      "  0%|          | 0/81 [00:00<?, ?it/s]"
     ]
    },
    {
     "name": "stdout",
     "output_type": "stream",
     "text": [
      "Epoch 17 of 40 took 58.351s\n",
      "  training loss (in-iteration): \t0.037484\n",
      "  validation iou: \t\t\t0.899 \n"
     ]
    },
    {
     "name": "stderr",
     "output_type": "stream",
     "text": [
      "100%|██████████| 81/81 [00:51<00:00,  1.57it/s]\n",
      "  0%|          | 0/81 [00:00<?, ?it/s]"
     ]
    },
    {
     "name": "stdout",
     "output_type": "stream",
     "text": [
      "Epoch 18 of 40 took 58.854s\n",
      "  training loss (in-iteration): \t0.038598\n",
      "  validation iou: \t\t\t0.891 \n"
     ]
    },
    {
     "name": "stderr",
     "output_type": "stream",
     "text": [
      "100%|██████████| 81/81 [00:51<00:00,  1.57it/s]\n",
      "  0%|          | 0/81 [00:00<?, ?it/s]"
     ]
    },
    {
     "name": "stdout",
     "output_type": "stream",
     "text": [
      "Epoch 19 of 40 took 58.981s\n",
      "  training loss (in-iteration): \t0.035240\n",
      "  validation iou: \t\t\t0.900 \n"
     ]
    },
    {
     "name": "stderr",
     "output_type": "stream",
     "text": [
      "100%|██████████| 81/81 [00:51<00:00,  1.58it/s]\n",
      "  0%|          | 0/81 [00:00<?, ?it/s]"
     ]
    },
    {
     "name": "stdout",
     "output_type": "stream",
     "text": [
      "Epoch 20 of 40 took 58.411s\n",
      "  training loss (in-iteration): \t0.030843\n",
      "  validation iou: \t\t\t0.907 \n"
     ]
    },
    {
     "name": "stderr",
     "output_type": "stream",
     "text": [
      "100%|██████████| 81/81 [00:51<00:00,  1.58it/s]\n",
      "  0%|          | 0/81 [00:00<?, ?it/s]"
     ]
    },
    {
     "name": "stdout",
     "output_type": "stream",
     "text": [
      "Epoch 21 of 40 took 58.286s\n",
      "  training loss (in-iteration): \t0.028593\n",
      "  validation iou: \t\t\t0.910 \n"
     ]
    },
    {
     "name": "stderr",
     "output_type": "stream",
     "text": [
      "100%|██████████| 81/81 [00:51<00:00,  1.58it/s]\n",
      "  0%|          | 0/81 [00:00<?, ?it/s]"
     ]
    },
    {
     "name": "stdout",
     "output_type": "stream",
     "text": [
      "Epoch 22 of 40 took 58.603s\n",
      "  training loss (in-iteration): \t0.027163\n",
      "  validation iou: \t\t\t0.910 \n"
     ]
    },
    {
     "name": "stderr",
     "output_type": "stream",
     "text": [
      "100%|██████████| 81/81 [00:51<00:00,  1.56it/s]\n",
      "  0%|          | 0/81 [00:00<?, ?it/s]"
     ]
    },
    {
     "name": "stdout",
     "output_type": "stream",
     "text": [
      "Epoch 23 of 40 took 59.053s\n",
      "  training loss (in-iteration): \t0.026134\n",
      "  validation iou: \t\t\t0.911 \n"
     ]
    },
    {
     "name": "stderr",
     "output_type": "stream",
     "text": [
      "100%|██████████| 81/81 [00:52<00:00,  1.55it/s]\n",
      "  0%|          | 0/81 [00:00<?, ?it/s]"
     ]
    },
    {
     "name": "stdout",
     "output_type": "stream",
     "text": [
      "Epoch 24 of 40 took 59.639s\n",
      "  training loss (in-iteration): \t0.025440\n",
      "  validation iou: \t\t\t0.909 \n"
     ]
    },
    {
     "name": "stderr",
     "output_type": "stream",
     "text": [
      "100%|██████████| 81/81 [00:51<00:00,  1.56it/s]\n",
      "  0%|          | 0/81 [00:00<?, ?it/s]"
     ]
    },
    {
     "name": "stdout",
     "output_type": "stream",
     "text": [
      "Epoch 25 of 40 took 59.051s\n",
      "  training loss (in-iteration): \t0.024936\n",
      "  validation iou: \t\t\t0.911 \n"
     ]
    },
    {
     "name": "stderr",
     "output_type": "stream",
     "text": [
      "100%|██████████| 81/81 [00:51<00:00,  1.57it/s]\n",
      "  0%|          | 0/81 [00:00<?, ?it/s]"
     ]
    },
    {
     "name": "stdout",
     "output_type": "stream",
     "text": [
      "Epoch 26 of 40 took 58.964s\n",
      "  training loss (in-iteration): \t0.025020\n",
      "  validation iou: \t\t\t0.912 \n"
     ]
    },
    {
     "name": "stderr",
     "output_type": "stream",
     "text": [
      "100%|██████████| 81/81 [00:52<00:00,  1.55it/s]\n",
      "  0%|          | 0/81 [00:00<?, ?it/s]"
     ]
    },
    {
     "name": "stdout",
     "output_type": "stream",
     "text": [
      "Epoch 27 of 40 took 60.057s\n",
      "  training loss (in-iteration): \t0.023487\n",
      "  validation iou: \t\t\t0.911 \n"
     ]
    },
    {
     "name": "stderr",
     "output_type": "stream",
     "text": [
      "100%|██████████| 81/81 [00:52<00:00,  1.53it/s]\n",
      "  0%|          | 0/81 [00:00<?, ?it/s]"
     ]
    },
    {
     "name": "stdout",
     "output_type": "stream",
     "text": [
      "Epoch 28 of 40 took 61.450s\n",
      "  training loss (in-iteration): \t0.024322\n",
      "  validation iou: \t\t\t0.913 \n"
     ]
    },
    {
     "name": "stderr",
     "output_type": "stream",
     "text": [
      "100%|██████████| 81/81 [00:52<00:00,  1.53it/s]\n",
      "  0%|          | 0/81 [00:00<?, ?it/s]"
     ]
    },
    {
     "name": "stdout",
     "output_type": "stream",
     "text": [
      "Epoch 29 of 40 took 60.087s\n",
      "  training loss (in-iteration): \t0.024113\n",
      "  validation iou: \t\t\t0.912 \n"
     ]
    },
    {
     "name": "stderr",
     "output_type": "stream",
     "text": [
      "100%|██████████| 81/81 [00:52<00:00,  1.56it/s]\n",
      "  0%|          | 0/81 [00:00<?, ?it/s]"
     ]
    },
    {
     "name": "stdout",
     "output_type": "stream",
     "text": [
      "Epoch 30 of 40 took 59.120s\n",
      "  training loss (in-iteration): \t0.023325\n",
      "  validation iou: \t\t\t0.915 \n"
     ]
    },
    {
     "name": "stderr",
     "output_type": "stream",
     "text": [
      "100%|██████████| 81/81 [00:51<00:00,  1.57it/s]\n",
      "  0%|          | 0/81 [00:00<?, ?it/s]"
     ]
    },
    {
     "name": "stdout",
     "output_type": "stream",
     "text": [
      "Epoch 31 of 40 took 58.571s\n",
      "  training loss (in-iteration): \t0.023507\n",
      "  validation iou: \t\t\t0.914 \n"
     ]
    },
    {
     "name": "stderr",
     "output_type": "stream",
     "text": [
      "100%|██████████| 81/81 [00:51<00:00,  1.57it/s]\n",
      "  0%|          | 0/81 [00:00<?, ?it/s]"
     ]
    },
    {
     "name": "stdout",
     "output_type": "stream",
     "text": [
      "Epoch 32 of 40 took 58.608s\n",
      "  training loss (in-iteration): \t0.022914\n",
      "  validation iou: \t\t\t0.915 \n"
     ]
    },
    {
     "name": "stderr",
     "output_type": "stream",
     "text": [
      "100%|██████████| 81/81 [00:51<00:00,  1.57it/s]\n",
      "  0%|          | 0/81 [00:00<?, ?it/s]"
     ]
    },
    {
     "name": "stdout",
     "output_type": "stream",
     "text": [
      "Epoch 33 of 40 took 58.888s\n",
      "  training loss (in-iteration): \t0.022812\n",
      "  validation iou: \t\t\t0.915 \n"
     ]
    },
    {
     "name": "stderr",
     "output_type": "stream",
     "text": [
      "100%|██████████| 81/81 [00:51<00:00,  1.56it/s]\n",
      "  0%|          | 0/81 [00:00<?, ?it/s]"
     ]
    },
    {
     "name": "stdout",
     "output_type": "stream",
     "text": [
      "Epoch 34 of 40 took 59.006s\n",
      "  training loss (in-iteration): \t0.022531\n",
      "  validation iou: \t\t\t0.914 \n"
     ]
    },
    {
     "name": "stderr",
     "output_type": "stream",
     "text": [
      "100%|██████████| 81/81 [00:51<00:00,  1.57it/s]\n",
      "  0%|          | 0/81 [00:00<?, ?it/s]"
     ]
    },
    {
     "name": "stdout",
     "output_type": "stream",
     "text": [
      "Epoch 35 of 40 took 58.602s\n",
      "  training loss (in-iteration): \t0.022832\n",
      "  validation iou: \t\t\t0.914 \n"
     ]
    },
    {
     "name": "stderr",
     "output_type": "stream",
     "text": [
      "100%|██████████| 81/81 [00:51<00:00,  1.57it/s]\n",
      "  0%|          | 0/81 [00:00<?, ?it/s]"
     ]
    },
    {
     "name": "stdout",
     "output_type": "stream",
     "text": [
      "Epoch 36 of 40 took 58.795s\n",
      "  training loss (in-iteration): \t0.022461\n",
      "  validation iou: \t\t\t0.915 \n"
     ]
    },
    {
     "name": "stderr",
     "output_type": "stream",
     "text": [
      "100%|██████████| 81/81 [00:52<00:00,  1.56it/s]\n",
      "  0%|          | 0/81 [00:00<?, ?it/s]"
     ]
    },
    {
     "name": "stdout",
     "output_type": "stream",
     "text": [
      "Epoch 37 of 40 took 59.498s\n",
      "  training loss (in-iteration): \t0.023134\n",
      "  validation iou: \t\t\t0.914 \n"
     ]
    },
    {
     "name": "stderr",
     "output_type": "stream",
     "text": [
      "100%|██████████| 81/81 [00:52<00:00,  1.55it/s]\n",
      "  0%|          | 0/81 [00:00<?, ?it/s]"
     ]
    },
    {
     "name": "stdout",
     "output_type": "stream",
     "text": [
      "Epoch 38 of 40 took 59.902s\n",
      "  training loss (in-iteration): \t0.021927\n",
      "  validation iou: \t\t\t0.914 \n"
     ]
    },
    {
     "name": "stderr",
     "output_type": "stream",
     "text": [
      "100%|██████████| 81/81 [00:51<00:00,  1.56it/s]\n",
      "  0%|          | 0/81 [00:00<?, ?it/s]"
     ]
    },
    {
     "name": "stdout",
     "output_type": "stream",
     "text": [
      "Epoch 39 of 40 took 59.009s\n",
      "  training loss (in-iteration): \t0.022471\n",
      "  validation iou: \t\t\t0.915 \n"
     ]
    },
    {
     "name": "stderr",
     "output_type": "stream",
     "text": [
      "100%|██████████| 81/81 [00:51<00:00,  1.57it/s]\n"
     ]
    },
    {
     "name": "stdout",
     "output_type": "stream",
     "text": [
      "Epoch 40 of 40 took 58.672s\n",
      "  training loss (in-iteration): \t0.022174\n",
      "  validation iou: \t\t\t0.914 \n"
     ]
    }
   ],
   "source": [
    "train_loop(seg_resnet, optimizer, train_batch_gen, test_batch_gen, epochs_for_lr_decay=[20,30], num_epochs=40)"
   ]
  },
  {
   "cell_type": "code",
   "execution_count": 19,
   "metadata": {},
   "outputs": [
    {
     "name": "stdout",
     "output_type": "stream",
     "text": [
      "Final test iou for cnn with pretrained classifier: \t\t\t0.914 \n"
     ]
    }
   ],
   "source": [
    "val_accuracy = eval_model(seg_resnet, test_batch_gen)\n",
    "\n",
    "print(\"Final test iou for cnn with pretrained classifier: \\t\\t\\t{:.3f} \".format(val_accuracy))"
   ]
  },
  {
   "cell_type": "code",
   "execution_count": null,
   "metadata": {},
   "outputs": [],
   "source": []
  }
 ],
 "metadata": {
  "kernelspec": {
   "display_name": "Python 3",
   "language": "python",
   "name": "python3"
  },
  "language_info": {
   "codemirror_mode": {
    "name": "ipython",
    "version": 3
   },
   "file_extension": ".py",
   "mimetype": "text/x-python",
   "name": "python",
   "nbconvert_exporter": "python",
   "pygments_lexer": "ipython3",
   "version": "3.7.3"
  }
 },
 "nbformat": 4,
 "nbformat_minor": 5
}
