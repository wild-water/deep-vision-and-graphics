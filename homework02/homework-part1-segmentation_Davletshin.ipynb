{
 "cells": [
  {
   "cell_type": "markdown",
   "id": "03840993",
   "metadata": {},
   "source": [
    "**Neural networks for road segmentation**\n",
    "========================"
   ]
  },
  {
   "cell_type": "markdown",
   "id": "7def38b0",
   "metadata": {},
   "source": [
    "Your next task is to train neural network to segment road on images from car cams."
   ]
  },
  {
   "cell_type": "markdown",
   "id": "9cdf93db",
   "metadata": {},
   "source": [
    "The original dataset is provided by Karlsruhe Institute of Technology (http://www.cvlibs.net/datasets/kitti/eval_road.php). Their images are ±370x1270, but, for simlictiy, we will use 370x370 squares."
   ]
  },
  {
   "cell_type": "markdown",
   "id": "2072b7bb",
   "metadata": {},
   "source": [
    "One can download the dataset from https://disk.yandex.ru/d/QPOw4hk84-se_w"
   ]
  },
  {
   "cell_type": "markdown",
   "id": "6fec3016",
   "metadata": {},
   "source": [
    "Here is an example of input data with corresponding ground truth:"
   ]
  },
  {
   "cell_type": "code",
   "execution_count": 1,
   "id": "a07565b2",
   "metadata": {},
   "outputs": [],
   "source": [
    "import os\n",
    "import cv2\n",
    "import numpy as np\n",
    "\n",
    "import albumentations as A\n",
    "import tqdm\n",
    "import torch\n",
    "import torchvision.transforms as transforms\n",
    "import torchvision.models as models\n",
    "from torch.utils.data import Dataset\n",
    "import torch.nn as nn\n",
    "from torch.nn import functional as F\n",
    "\n",
    "import matplotlib.pyplot as plt\n",
    "%matplotlib inline"
   ]
  },
  {
   "cell_type": "code",
   "execution_count": 2,
   "metadata": {},
   "outputs": [
    {
     "name": "stdout",
     "output_type": "stream",
     "text": [
      "Our main computing device is 'cuda:0'\n"
     ]
    }
   ],
   "source": [
    "def get_computing_device():\n",
    "    if torch.cuda.is_available():\n",
    "        device = torch.device('cuda:0')\n",
    "    else:\n",
    "        device = torch.device('cpu')\n",
    "    return device\n",
    "\n",
    "device = get_computing_device()\n",
    "print(f\"Our main computing device is '{device}'\")"
   ]
  },
  {
   "cell_type": "code",
   "execution_count": 3,
   "id": "2d6665d8",
   "metadata": {},
   "outputs": [],
   "source": [
    "def get_paths(path):\n",
    "    _, _, filenames = next(os.walk(path))\n",
    "\n",
    "    images_paths = []\n",
    "    for filename in sorted(filenames):            \n",
    "        images_paths.append(os.path.join(path, filename))\n",
    "    \n",
    "    return np.stack(images_paths)\n",
    "\n",
    "class RoadDataset(Dataset):\n",
    "    \"\"\"Feel free to rewrite it. For ex. cache all images in RAM to increase training speed\"\"\"\n",
    "    def __init__(self, images, masks, transform, aug=None,):\n",
    "        self.images = sorted(images)\n",
    "        self.masks = sorted(masks)\n",
    "        self.transform = transform\n",
    "        self.aug = aug\n",
    "    \n",
    "    def __len__(self):\n",
    "        return len(self.images)\n",
    "    \n",
    "    def __getitem__(self, idx):        \n",
    "        im_name = self.images[idx]\n",
    "        mask_name = self.masks[idx]\n",
    "        \n",
    "        image = cv2.imread(im_name)[:,:,::-1] / 255.0  # ::-1 to convert from BGR to RGB\n",
    "        mask = cv2.imread(mask_name, cv2.IMREAD_GRAYSCALE)\n",
    "        mask = (mask > 0).astype(np.float32)\n",
    "        \n",
    "        if self.aug:\n",
    "            sample = self.aug(\n",
    "                image=image,\n",
    "                mask=mask,\n",
    "            )\n",
    "        else:\n",
    "            sample = {\n",
    "                'image': image,\n",
    "                'mask': mask,\n",
    "            }\n",
    "        \n",
    "        sample['image'] = self.transform(sample['image']).float()\n",
    "        sample['image'] = transforms.Normalize((0.485, 0.456, 0.406), (0.229, 0.224, 0.225))(sample['image'])\n",
    "        \n",
    "        sample['mask'] = self.transform(sample['mask']).float()\n",
    "        return sample"
   ]
  },
  {
   "cell_type": "code",
   "execution_count": 4,
   "id": "57f2b951",
   "metadata": {},
   "outputs": [],
   "source": [
    "X_train = get_paths(\"data/train/images\")\n",
    "y_train = get_paths(\"data/train/gt\")\n",
    "train_aug = A.Compose([\n",
    "    A.HorizontalFlip(p=0.5),\n",
    "    A.RandomCrop(368, 368),\n",
    "    A.Resize(370, 370),\n",
    "    A.ShiftScaleRotate(shift_limit=0.1, scale_limit=0.1, rotate_limit=10, p=0.5),\n",
    "    A.RGBShift(r_shift_limit=10/255, g_shift_limit=10/255, b_shift_limit=10/255, p=0.5),\n",
    "])\n",
    "\n",
    "train_transform = transforms.Compose([\n",
    "    transforms.ToTensor(),\n",
    "])\n",
    "\n",
    "\n",
    "X_test = get_paths(\"data/test/images\")\n",
    "y_test = get_paths(\"data/test/gt\")\n",
    "test_transform = transforms.Compose([\n",
    "    transforms.ToTensor(),\n",
    "])"
   ]
  },
  {
   "cell_type": "code",
   "execution_count": 5,
   "id": "bc255049",
   "metadata": {},
   "outputs": [],
   "source": [
    "train_dataset = RoadDataset(X_train, y_train, train_transform, aug=train_aug)\n",
    "test_dataset = RoadDataset(X_test, y_test, test_transform)"
   ]
  },
  {
   "cell_type": "code",
   "execution_count": 6,
   "id": "9056519f",
   "metadata": {},
   "outputs": [
    {
     "name": "stderr",
     "output_type": "stream",
     "text": [
      "Clipping input data to the valid range for imshow with RGB data ([0..1] for floats or [0..255] for integers).\n"
     ]
    },
    {
     "data": {
      "text/plain": [
       "<matplotlib.image.AxesImage at 0x7fd15923e240>"
      ]
     },
     "execution_count": 6,
     "metadata": {},
     "output_type": "execute_result"
    },
    {
     "data": {
      "image/png": "[encoded data removed]",
      "text/plain": [
       "<Figure size 432x288 with 2 Axes>"
      ]
     },
     "metadata": {
      "needs_background": "light"
     },
     "output_type": "display_data"
    }
   ],
   "source": [
    "sample = train_dataset[4]\n",
    "image = sample['image']\n",
    "mask = sample['mask']\n",
    "\n",
    "plt.subplot(1, 2, 1)\n",
    "plt.imshow(image.permute(1, 2, 0))\n",
    "plt.subplot(1, 2, 2)\n",
    "plt.imshow(mask.permute(1, 2, 0)[...,0])"
   ]
  },
  {
   "cell_type": "markdown",
   "id": "e7a8986f",
   "metadata": {},
   "source": [
    "Workflow:\n",
    "---\n",
    "* Choose correct loss function, write training loop and code for testing. Feel free to use previous HW for inspiration. \n",
    "* Train any segmentation neural network from scratch (for example U-Net) and achieve >= 0.75 IoU on test set (40% points). See function to calculate the metric below.\n",
    "* Use any pretrained model for image classification, convert it for segmentation by adding decoder (don't forget skip-connections) or usign dilated convolutions and achieve >= 0.87 IoU  on test set (60% points).\n",
    "\n",
    "You're not allowed to do only one thing: train your network on test set.\n",
    "\n",
    "----\n",
    "Your final solution will consist of an ipython notebook with code (for final networks training + any experiments with data) and test metric calculation.\n",
    "\n",
    "Feel free to ask in Telegram chat if something is not clear :3\n"
   ]
  },
  {
   "cell_type": "code",
   "execution_count": 7,
   "id": "d91bc236",
   "metadata": {},
   "outputs": [
    {
     "name": "stdout",
     "output_type": "stream",
     "text": [
      "Train Dataset length 648\n",
      "Test Dataset length 219\n"
     ]
    }
   ],
   "source": [
    "print(f\"Train Dataset length {len(train_dataset)}\")\n",
    "print(f\"Test Dataset length {len(test_dataset)}\")"
   ]
  },
  {
   "cell_type": "markdown",
   "id": "057ee74d",
   "metadata": {},
   "source": [
    "Dataset is small so actively use data augmentation: rotations, flip, color-change etc. to prevent overfitting.\n",
    "\n",
    "Most likely you'll have to pad your images to 512x512 (it divides by 2^5=32, like U-Net wants). Use PadIfNeeded from Albumentations and central crop (see below) after prediction to calculate loss/metrics (you don't want to pay attention on padded values).\n",
    "\n",
    "----\n",
    "There is a hard data class imbalance in dataset, so the network output will be biased toward \"zero\" class. You can either tune the minimal probability threshold for the \"road\" class, or add class weights in optimized loss. You also can try to use softIoU or DICE loss."
   ]
  },
  {
   "cell_type": "markdown",
   "id": "1c0dcf8f",
   "metadata": {},
   "source": [
    "Good luck!"
   ]
  },
  {
   "cell_type": "code",
   "execution_count": 8,
   "id": "50a8610c",
   "metadata": {},
   "outputs": [],
   "source": [
    "def calc_iou(prediction, ground_truth):\n",
    "    n_images = len(prediction)\n",
    "    intersection, union = 0, 0\n",
    "    for i in range(n_images):\n",
    "        intersection += np.logical_and(prediction[i] > 0, ground_truth[i] > 0).astype(np.float32).sum() \n",
    "        union += np.logical_or(prediction[i] > 0, ground_truth[i] > 0).astype(np.float32).sum()\n",
    "    return float(intersection) / union"
   ]
  },
  {
   "cell_type": "code",
   "execution_count": 9,
   "id": "0483e274",
   "metadata": {},
   "outputs": [],
   "source": [
    "def central_crop(images, size):\n",
    "    current_size = images.size(2)\n",
    "    border_len = (current_size - size) // 2\n",
    "    images = images[:, :, border_len:current_size-border_len, border_len:current_size-border_len]\n",
    "    return images"
   ]
  },
  {
   "cell_type": "code",
   "execution_count": 10,
   "metadata": {},
   "outputs": [],
   "source": [
    "import numpy as np\n",
    "import time\n",
    "\n",
    "\n",
    "def eval_model(model, data_generator):\n",
    "    accuracy = []\n",
    "    model.train(False) # disable dropout / use averages for batch_norm\n",
    "    with torch.no_grad():\n",
    "        for sample in data_generator:\n",
    "            X_batch = sample['image']\n",
    "            y_batch = sample['mask']\n",
    "            X_batch = F.pad(X_batch, ((376-370) // 2, (376-370) // 2, (376-370) // 2, (376-370) // 2), \n",
    "                            \"constant\", 0)\n",
    "            \n",
    "            X_batch = X_batch.to(device)\n",
    "            logits = model(X_batch)\n",
    "            logits = central_crop(logits, 370)\n",
    "            y_pred = logits.max(1)[1].data\n",
    "            accuracy.append(np.mean(calc_iou(y_pred.cpu().numpy(), y_batch.cpu().numpy())))\n",
    "    return np.mean(accuracy)\n",
    "\n",
    "            \n",
    "def train_model(model, optimizer, train_data_generator):\n",
    "    criterion = nn.CrossEntropyLoss(weight=torch.tensor([0.4, 0.6])).to(device)\n",
    "    train_loss = []\n",
    "    model.train(True) # enable dropout / batch_norm training behavior\n",
    "    for sample in tqdm.tqdm(train_data_generator):\n",
    "        X_batch = sample['image']\n",
    "        y_batch = sample['mask']\n",
    "        X_batch = F.pad(X_batch, ((376-370) // 2, (376-370) // 2, (376-370) // 2, (376-370) // 2), \n",
    "                        \"constant\", 0)\n",
    "        \n",
    "        X_batch = X_batch.to(device)\n",
    "        y_batch = torch.squeeze(y_batch, 1).to(device, dtype=torch.long) \n",
    "        predictions = central_crop(model(X_batch), 370)\n",
    "        \n",
    "        loss = criterion(predictions, y_batch)\n",
    "        optimizer.zero_grad()\n",
    "        loss.backward()\n",
    "        optimizer.step()\n",
    "        train_loss.append(loss.cpu().data.numpy())\n",
    "    return np.mean(train_loss)\n",
    "\n",
    "\n",
    "def train_loop(model, optimizer, train_data_generator, val_data_generator, \n",
    "               epochs_for_lr_decay=[], num_epochs=1):\n",
    "    \"\"\"\n",
    "    num_epochs - total amount of full passes over training data\n",
    "    \"\"\"\n",
    "    for epoch in range(num_epochs):\n",
    "        start_time = time.time()\n",
    "        \n",
    "        if epoch in epochs_for_lr_decay:\n",
    "            for param_group in optimizer.param_groups:\n",
    "                param_group['lr'] = param_group['lr'] / 10\n",
    "        \n",
    "        train_loss = train_model(model, optimizer, train_data_generator)  \n",
    "        val_accuracy = eval_model(model, val_data_generator)\n",
    "\n",
    "        # Then we print the results for this epoch:\n",
    "        print(\"Epoch {} of {} took {:.3f}s\".format(epoch + 1, num_epochs, time.time() - start_time))\n",
    "        print(\"  training loss (in-iteration): \\t{:.6f}\".format(train_loss))\n",
    "        print(\"  validation iou: \\t\\t\\t{:.3f} \".format(val_accuracy))"
   ]
  },
  {
   "cell_type": "code",
   "execution_count": 11,
   "metadata": {},
   "outputs": [],
   "source": [
    "def double_conv(in_channels, out_channels):\n",
    "    return nn.Sequential(\n",
    "        nn.Conv2d(in_channels, out_channels, 3, padding=1),\n",
    "        nn.BatchNorm2d(out_channels),\n",
    "        nn.ReLU(inplace=True),\n",
    "        nn.Conv2d(out_channels, out_channels, 3, padding=1),\n",
    "        nn.BatchNorm2d(out_channels),\n",
    "        nn.ReLU(inplace=True)\n",
    "    )   \n",
    "\n",
    "\n",
    "class UNet(nn.Module):\n",
    "\n",
    "    def __init__(self, n_class=2):\n",
    "        super().__init__()\n",
    "                \n",
    "        self.dconv_down1 = double_conv(3, 16)\n",
    "        self.dconv_down2 = double_conv(16, 32)\n",
    "        self.dconv_down3 = double_conv(32, 64)\n",
    "        self.dconv_down4 = double_conv(64, 128)        \n",
    "\n",
    "        self.maxpool = nn.MaxPool2d(2)\n",
    "        self.upsample = nn.Upsample(scale_factor=2, mode='bilinear', align_corners=True)        \n",
    "        \n",
    "        self.dconv_up3 = double_conv(64 + 128, 64)\n",
    "        self.dconv_up2 = double_conv(32 + 64, 32)\n",
    "        self.dconv_up1 = double_conv(32 + 16, 16)\n",
    "        \n",
    "        self.conv_last = nn.Conv2d(16, n_class, 1)\n",
    "        \n",
    "        \n",
    "    def forward(self, x):\n",
    "        conv1 = self.dconv_down1(x)\n",
    "        x = self.maxpool(conv1)\n",
    "\n",
    "        conv2 = self.dconv_down2(x)\n",
    "        x = self.maxpool(conv2)\n",
    "        \n",
    "        conv3 = self.dconv_down3(x)\n",
    "        x = self.maxpool(conv3)   \n",
    "        \n",
    "        x = self.dconv_down4(x)\n",
    "        \n",
    "        x = self.upsample(x)        \n",
    "        x = torch.cat([x, conv3], dim=1)\n",
    "        \n",
    "        x = self.dconv_up3(x)\n",
    "        x = self.upsample(x)        \n",
    "        x = torch.cat([x, conv2], dim=1)       \n",
    "\n",
    "        x = self.dconv_up2(x)\n",
    "        x = self.upsample(x)        \n",
    "        x = torch.cat([x, conv1], dim=1)   \n",
    "        \n",
    "        x = self.dconv_up1(x)\n",
    "        \n",
    "        out = self.conv_last(x)\n",
    "        \n",
    "        return out"
   ]
  },
  {
   "cell_type": "markdown",
   "metadata": {},
   "source": [
    "# Training UNET from scratch"
   ]
  },
  {
   "cell_type": "code",
   "execution_count": 12,
   "metadata": {},
   "outputs": [],
   "source": [
    "unet = UNet().to(device)\n",
    "optimizer = torch.optim.Adam(unet.parameters(), weight_decay=1e-5)\n",
    "\n",
    "batch_size = 12\n",
    "train_batch_gen = torch.utils.data.DataLoader(train_dataset, \n",
    "                                              batch_size=batch_size,\n",
    "                                              shuffle=True,\n",
    "                                              num_workers=4)\n",
    "\n",
    "test_batch_gen = torch.utils.data.DataLoader(test_dataset, \n",
    "                                              batch_size=batch_size,\n",
    "                                              shuffle=False,\n",
    "                                              num_workers=4)"
   ]
  },
  {
   "cell_type": "code",
   "execution_count": 13,
   "metadata": {},
   "outputs": [
    {
     "name": "stderr",
     "output_type": "stream",
     "text": [
      "100%|██████████| 54/54 [00:47<00:00,  1.13it/s]\n",
      "  0%|          | 0/54 [00:00<?, ?it/s]"
     ]
    },
    {
     "name": "stdout",
     "output_type": "stream",
     "text": [
      "Epoch 1 of 90 took 51.784s\n",
      "  training loss (in-iteration): \t0.365818\n",
      "  validation iou: \t\t\t0.537 \n"
     ]
    },
    {
     "name": "stderr",
     "output_type": "stream",
     "text": [
      "100%|██████████| 54/54 [00:47<00:00,  1.13it/s]\n",
      "  0%|          | 0/54 [00:00<?, ?it/s]"
     ]
    },
    {
     "name": "stdout",
     "output_type": "stream",
     "text": [
      "Epoch 2 of 90 took 52.137s\n",
      "  training loss (in-iteration): \t0.282776\n",
      "  validation iou: \t\t\t0.547 \n"
     ]
    },
    {
     "name": "stderr",
     "output_type": "stream",
     "text": [
      "100%|██████████| 54/54 [00:48<00:00,  1.12it/s]\n",
      "  0%|          | 0/54 [00:00<?, ?it/s]"
     ]
    },
    {
     "name": "stdout",
     "output_type": "stream",
     "text": [
      "Epoch 3 of 90 took 52.221s\n",
      "  training loss (in-iteration): \t0.254081\n",
      "  validation iou: \t\t\t0.479 \n"
     ]
    },
    {
     "name": "stderr",
     "output_type": "stream",
     "text": [
      "100%|██████████| 54/54 [00:48<00:00,  1.12it/s]\n",
      "  0%|          | 0/54 [00:00<?, ?it/s]"
     ]
    },
    {
     "name": "stdout",
     "output_type": "stream",
     "text": [
      "Epoch 4 of 90 took 52.812s\n",
      "  training loss (in-iteration): \t0.233755\n",
      "  validation iou: \t\t\t0.586 \n"
     ]
    },
    {
     "name": "stderr",
     "output_type": "stream",
     "text": [
      "100%|██████████| 54/54 [00:48<00:00,  1.11it/s]\n",
      "  0%|          | 0/54 [00:00<?, ?it/s]"
     ]
    },
    {
     "name": "stdout",
     "output_type": "stream",
     "text": [
      "Epoch 5 of 90 took 52.968s\n",
      "  training loss (in-iteration): \t0.241022\n",
      "  validation iou: \t\t\t0.581 \n"
     ]
    },
    {
     "name": "stderr",
     "output_type": "stream",
     "text": [
      "100%|██████████| 54/54 [00:48<00:00,  1.11it/s]\n",
      "  0%|          | 0/54 [00:00<?, ?it/s]"
     ]
    },
    {
     "name": "stdout",
     "output_type": "stream",
     "text": [
      "Epoch 6 of 90 took 52.673s\n",
      "  training loss (in-iteration): \t0.225047\n",
      "  validation iou: \t\t\t0.596 \n"
     ]
    },
    {
     "name": "stderr",
     "output_type": "stream",
     "text": [
      "100%|██████████| 54/54 [00:47<00:00,  1.13it/s]\n",
      "  0%|          | 0/54 [00:00<?, ?it/s]"
     ]
    },
    {
     "name": "stdout",
     "output_type": "stream",
     "text": [
      "Epoch 7 of 90 took 52.104s\n",
      "  training loss (in-iteration): \t0.212309\n",
      "  validation iou: \t\t\t0.588 \n"
     ]
    },
    {
     "name": "stderr",
     "output_type": "stream",
     "text": [
      "100%|██████████| 54/54 [00:48<00:00,  1.12it/s]\n",
      "  0%|          | 0/54 [00:00<?, ?it/s]"
     ]
    },
    {
     "name": "stdout",
     "output_type": "stream",
     "text": [
      "Epoch 8 of 90 took 52.421s\n",
      "  training loss (in-iteration): \t0.201219\n",
      "  validation iou: \t\t\t0.582 \n"
     ]
    },
    {
     "name": "stderr",
     "output_type": "stream",
     "text": [
      "100%|██████████| 54/54 [00:48<00:00,  1.12it/s]\n",
      "  0%|          | 0/54 [00:00<?, ?it/s]"
     ]
    },
    {
     "name": "stdout",
     "output_type": "stream",
     "text": [
      "Epoch 9 of 90 took 52.246s\n",
      "  training loss (in-iteration): \t0.200998\n",
      "  validation iou: \t\t\t0.578 \n"
     ]
    },
    {
     "name": "stderr",
     "output_type": "stream",
     "text": [
      "100%|██████████| 54/54 [00:48<00:00,  1.12it/s]\n",
      "  0%|          | 0/54 [00:00<?, ?it/s]"
     ]
    },
    {
     "name": "stdout",
     "output_type": "stream",
     "text": [
      "Epoch 10 of 90 took 52.212s\n",
      "  training loss (in-iteration): \t0.208789\n",
      "  validation iou: \t\t\t0.587 \n"
     ]
    },
    {
     "name": "stderr",
     "output_type": "stream",
     "text": [
      "100%|██████████| 54/54 [00:48<00:00,  1.12it/s]\n",
      "  0%|          | 0/54 [00:00<?, ?it/s]"
     ]
    },
    {
     "name": "stdout",
     "output_type": "stream",
     "text": [
      "Epoch 11 of 90 took 52.228s\n",
      "  training loss (in-iteration): \t0.201700\n",
      "  validation iou: \t\t\t0.606 \n"
     ]
    },
    {
     "name": "stderr",
     "output_type": "stream",
     "text": [
      "100%|██████████| 54/54 [00:48<00:00,  1.12it/s]\n",
      "  0%|          | 0/54 [00:00<?, ?it/s]"
     ]
    },
    {
     "name": "stdout",
     "output_type": "stream",
     "text": [
      "Epoch 12 of 90 took 52.380s\n",
      "  training loss (in-iteration): \t0.185440\n",
      "  validation iou: \t\t\t0.614 \n"
     ]
    },
    {
     "name": "stderr",
     "output_type": "stream",
     "text": [
      "100%|██████████| 54/54 [00:48<00:00,  1.12it/s]\n",
      "  0%|          | 0/54 [00:00<?, ?it/s]"
     ]
    },
    {
     "name": "stdout",
     "output_type": "stream",
     "text": [
      "Epoch 13 of 90 took 52.940s\n",
      "  training loss (in-iteration): \t0.183685\n",
      "  validation iou: \t\t\t0.628 \n"
     ]
    },
    {
     "name": "stderr",
     "output_type": "stream",
     "text": [
      "100%|██████████| 54/54 [00:47<00:00,  1.13it/s]\n",
      "  0%|          | 0/54 [00:00<?, ?it/s]"
     ]
    },
    {
     "name": "stdout",
     "output_type": "stream",
     "text": [
      "Epoch 14 of 90 took 52.014s\n",
      "  training loss (in-iteration): \t0.175083\n",
      "  validation iou: \t\t\t0.611 \n"
     ]
    },
    {
     "name": "stderr",
     "output_type": "stream",
     "text": [
      "100%|██████████| 54/54 [00:48<00:00,  1.12it/s]\n",
      "  0%|          | 0/54 [00:00<?, ?it/s]"
     ]
    },
    {
     "name": "stdout",
     "output_type": "stream",
     "text": [
      "Epoch 15 of 90 took 52.172s\n",
      "  training loss (in-iteration): \t0.188281\n",
      "  validation iou: \t\t\t0.629 \n"
     ]
    },
    {
     "name": "stderr",
     "output_type": "stream",
     "text": [
      "100%|██████████| 54/54 [00:48<00:00,  1.12it/s]\n",
      "  0%|          | 0/54 [00:00<?, ?it/s]"
     ]
    },
    {
     "name": "stdout",
     "output_type": "stream",
     "text": [
      "Epoch 16 of 90 took 52.447s\n",
      "  training loss (in-iteration): \t0.170147\n",
      "  validation iou: \t\t\t0.629 \n"
     ]
    },
    {
     "name": "stderr",
     "output_type": "stream",
     "text": [
      "100%|██████████| 54/54 [00:48<00:00,  1.12it/s]\n",
      "  0%|          | 0/54 [00:00<?, ?it/s]"
     ]
    },
    {
     "name": "stdout",
     "output_type": "stream",
     "text": [
      "Epoch 17 of 90 took 52.558s\n",
      "  training loss (in-iteration): \t0.169130\n",
      "  validation iou: \t\t\t0.605 \n"
     ]
    },
    {
     "name": "stderr",
     "output_type": "stream",
     "text": [
      "100%|██████████| 54/54 [00:47<00:00,  1.13it/s]\n",
      "  0%|          | 0/54 [00:00<?, ?it/s]"
     ]
    },
    {
     "name": "stdout",
     "output_type": "stream",
     "text": [
      "Epoch 18 of 90 took 52.149s\n",
      "  training loss (in-iteration): \t0.177464\n",
      "  validation iou: \t\t\t0.613 \n"
     ]
    },
    {
     "name": "stderr",
     "output_type": "stream",
     "text": [
      "100%|██████████| 54/54 [00:48<00:00,  1.12it/s]\n",
      "  0%|          | 0/54 [00:00<?, ?it/s]"
     ]
    },
    {
     "name": "stdout",
     "output_type": "stream",
     "text": [
      "Epoch 19 of 90 took 52.620s\n",
      "  training loss (in-iteration): \t0.165643\n",
      "  validation iou: \t\t\t0.644 \n"
     ]
    },
    {
     "name": "stderr",
     "output_type": "stream",
     "text": [
      "100%|██████████| 54/54 [00:48<00:00,  1.12it/s]\n",
      "  0%|          | 0/54 [00:00<?, ?it/s]"
     ]
    },
    {
     "name": "stdout",
     "output_type": "stream",
     "text": [
      "Epoch 20 of 90 took 52.386s\n",
      "  training loss (in-iteration): \t0.154499\n",
      "  validation iou: \t\t\t0.660 \n"
     ]
    },
    {
     "name": "stderr",
     "output_type": "stream",
     "text": [
      "100%|██████████| 54/54 [00:48<00:00,  1.12it/s]\n",
      "  0%|          | 0/54 [00:00<?, ?it/s]"
     ]
    },
    {
     "name": "stdout",
     "output_type": "stream",
     "text": [
      "Epoch 21 of 90 took 52.310s\n",
      "  training loss (in-iteration): \t0.172164\n",
      "  validation iou: \t\t\t0.545 \n"
     ]
    },
    {
     "name": "stderr",
     "output_type": "stream",
     "text": [
      "100%|██████████| 54/54 [00:48<00:00,  1.12it/s]\n",
      "  0%|          | 0/54 [00:00<?, ?it/s]"
     ]
    },
    {
     "name": "stdout",
     "output_type": "stream",
     "text": [
      "Epoch 22 of 90 took 52.448s\n",
      "  training loss (in-iteration): \t0.156867\n",
      "  validation iou: \t\t\t0.654 \n"
     ]
    },
    {
     "name": "stderr",
     "output_type": "stream",
     "text": [
      "100%|██████████| 54/54 [00:48<00:00,  1.12it/s]\n",
      "  0%|          | 0/54 [00:00<?, ?it/s]"
     ]
    },
    {
     "name": "stdout",
     "output_type": "stream",
     "text": [
      "Epoch 23 of 90 took 52.469s\n",
      "  training loss (in-iteration): \t0.153755\n",
      "  validation iou: \t\t\t0.626 \n"
     ]
    },
    {
     "name": "stderr",
     "output_type": "stream",
     "text": [
      "100%|██████████| 54/54 [00:48<00:00,  1.12it/s]\n",
      "  0%|          | 0/54 [00:00<?, ?it/s]"
     ]
    },
    {
     "name": "stdout",
     "output_type": "stream",
     "text": [
      "Epoch 24 of 90 took 53.073s\n",
      "  training loss (in-iteration): \t0.149744\n",
      "  validation iou: \t\t\t0.615 \n"
     ]
    },
    {
     "name": "stderr",
     "output_type": "stream",
     "text": [
      "100%|██████████| 54/54 [00:48<00:00,  1.11it/s]\n",
      "  0%|          | 0/54 [00:00<?, ?it/s]"
     ]
    },
    {
     "name": "stdout",
     "output_type": "stream",
     "text": [
      "Epoch 25 of 90 took 53.138s\n",
      "  training loss (in-iteration): \t0.164341\n",
      "  validation iou: \t\t\t0.647 \n"
     ]
    },
    {
     "name": "stderr",
     "output_type": "stream",
     "text": [
      "100%|██████████| 54/54 [00:48<00:00,  1.11it/s]\n",
      "  0%|          | 0/54 [00:00<?, ?it/s]"
     ]
    },
    {
     "name": "stdout",
     "output_type": "stream",
     "text": [
      "Epoch 26 of 90 took 53.014s\n",
      "  training loss (in-iteration): \t0.162893\n",
      "  validation iou: \t\t\t0.601 \n"
     ]
    },
    {
     "name": "stderr",
     "output_type": "stream",
     "text": [
      "100%|██████████| 54/54 [00:47<00:00,  1.13it/s]\n",
      "  0%|          | 0/54 [00:00<?, ?it/s]"
     ]
    },
    {
     "name": "stdout",
     "output_type": "stream",
     "text": [
      "Epoch 27 of 90 took 52.162s\n",
      "  training loss (in-iteration): \t0.155075\n",
      "  validation iou: \t\t\t0.665 \n"
     ]
    },
    {
     "name": "stderr",
     "output_type": "stream",
     "text": [
      "100%|██████████| 54/54 [00:48<00:00,  1.11it/s]\n",
      "  0%|          | 0/54 [00:00<?, ?it/s]"
     ]
    },
    {
     "name": "stdout",
     "output_type": "stream",
     "text": [
      "Epoch 28 of 90 took 53.302s\n",
      "  training loss (in-iteration): \t0.140397\n",
      "  validation iou: \t\t\t0.696 \n"
     ]
    },
    {
     "name": "stderr",
     "output_type": "stream",
     "text": [
      "100%|██████████| 54/54 [00:48<00:00,  1.10it/s]\n",
      "  0%|          | 0/54 [00:00<?, ?it/s]"
     ]
    },
    {
     "name": "stdout",
     "output_type": "stream",
     "text": [
      "Epoch 29 of 90 took 53.552s\n",
      "  training loss (in-iteration): \t0.142901\n",
      "  validation iou: \t\t\t0.663 \n"
     ]
    },
    {
     "name": "stderr",
     "output_type": "stream",
     "text": [
      "100%|██████████| 54/54 [00:48<00:00,  1.11it/s]\n",
      "  0%|          | 0/54 [00:00<?, ?it/s]"
     ]
    },
    {
     "name": "stdout",
     "output_type": "stream",
     "text": [
      "Epoch 30 of 90 took 53.936s\n",
      "  training loss (in-iteration): \t0.141379\n",
      "  validation iou: \t\t\t0.681 \n"
     ]
    },
    {
     "name": "stderr",
     "output_type": "stream",
     "text": [
      "100%|██████████| 54/54 [00:49<00:00,  1.10it/s]\n",
      "  0%|          | 0/54 [00:00<?, ?it/s]"
     ]
    },
    {
     "name": "stdout",
     "output_type": "stream",
     "text": [
      "Epoch 31 of 90 took 53.383s\n",
      "  training loss (in-iteration): \t0.135614\n",
      "  validation iou: \t\t\t0.669 \n"
     ]
    },
    {
     "name": "stderr",
     "output_type": "stream",
     "text": [
      "100%|██████████| 54/54 [00:48<00:00,  1.11it/s]\n",
      "  0%|          | 0/54 [00:00<?, ?it/s]"
     ]
    },
    {
     "name": "stdout",
     "output_type": "stream",
     "text": [
      "Epoch 32 of 90 took 53.910s\n",
      "  training loss (in-iteration): \t0.140186\n",
      "  validation iou: \t\t\t0.656 \n"
     ]
    },
    {
     "name": "stderr",
     "output_type": "stream",
     "text": [
      "100%|██████████| 54/54 [00:49<00:00,  1.09it/s]\n",
      "  0%|          | 0/54 [00:00<?, ?it/s]"
     ]
    },
    {
     "name": "stdout",
     "output_type": "stream",
     "text": [
      "Epoch 33 of 90 took 53.833s\n",
      "  training loss (in-iteration): \t0.136889\n",
      "  validation iou: \t\t\t0.702 \n"
     ]
    },
    {
     "name": "stderr",
     "output_type": "stream",
     "text": [
      "100%|██████████| 54/54 [00:48<00:00,  1.11it/s]\n",
      "  0%|          | 0/54 [00:00<?, ?it/s]"
     ]
    },
    {
     "name": "stdout",
     "output_type": "stream",
     "text": [
      "Epoch 34 of 90 took 54.173s\n",
      "  training loss (in-iteration): \t0.126850\n",
      "  validation iou: \t\t\t0.696 \n"
     ]
    },
    {
     "name": "stderr",
     "output_type": "stream",
     "text": [
      "100%|██████████| 54/54 [00:48<00:00,  1.11it/s]\n",
      "  0%|          | 0/54 [00:00<?, ?it/s]"
     ]
    },
    {
     "name": "stdout",
     "output_type": "stream",
     "text": [
      "Epoch 35 of 90 took 53.042s\n",
      "  training loss (in-iteration): \t0.141243\n",
      "  validation iou: \t\t\t0.697 \n"
     ]
    },
    {
     "name": "stderr",
     "output_type": "stream",
     "text": [
      "100%|██████████| 54/54 [00:49<00:00,  1.09it/s]\n",
      "  0%|          | 0/54 [00:00<?, ?it/s]"
     ]
    },
    {
     "name": "stdout",
     "output_type": "stream",
     "text": [
      "Epoch 36 of 90 took 53.923s\n",
      "  training loss (in-iteration): \t0.115210\n",
      "  validation iou: \t\t\t0.713 \n"
     ]
    },
    {
     "name": "stderr",
     "output_type": "stream",
     "text": [
      "100%|██████████| 54/54 [00:48<00:00,  1.10it/s]\n",
      "  0%|          | 0/54 [00:00<?, ?it/s]"
     ]
    },
    {
     "name": "stdout",
     "output_type": "stream",
     "text": [
      "Epoch 37 of 90 took 53.409s\n",
      "  training loss (in-iteration): \t0.125988\n",
      "  validation iou: \t\t\t0.688 \n"
     ]
    },
    {
     "name": "stderr",
     "output_type": "stream",
     "text": [
      "100%|██████████| 54/54 [00:48<00:00,  1.11it/s]\n",
      "  0%|          | 0/54 [00:00<?, ?it/s]"
     ]
    },
    {
     "name": "stdout",
     "output_type": "stream",
     "text": [
      "Epoch 38 of 90 took 53.386s\n",
      "  training loss (in-iteration): \t0.122558\n",
      "  validation iou: \t\t\t0.662 \n"
     ]
    },
    {
     "name": "stderr",
     "output_type": "stream",
     "text": [
      "100%|██████████| 54/54 [00:48<00:00,  1.11it/s]\n",
      "  0%|          | 0/54 [00:00<?, ?it/s]"
     ]
    },
    {
     "name": "stdout",
     "output_type": "stream",
     "text": [
      "Epoch 39 of 90 took 53.461s\n",
      "  training loss (in-iteration): \t0.133475\n",
      "  validation iou: \t\t\t0.689 \n"
     ]
    },
    {
     "name": "stderr",
     "output_type": "stream",
     "text": [
      "100%|██████████| 54/54 [00:49<00:00,  1.09it/s]\n",
      "  0%|          | 0/54 [00:00<?, ?it/s]"
     ]
    },
    {
     "name": "stdout",
     "output_type": "stream",
     "text": [
      "Epoch 40 of 90 took 54.055s\n",
      "  training loss (in-iteration): \t0.120664\n",
      "  validation iou: \t\t\t0.697 \n"
     ]
    },
    {
     "name": "stderr",
     "output_type": "stream",
     "text": [
      "100%|██████████| 54/54 [00:49<00:00,  1.09it/s]\n",
      "  0%|          | 0/54 [00:00<?, ?it/s]"
     ]
    },
    {
     "name": "stdout",
     "output_type": "stream",
     "text": [
      "Epoch 41 of 90 took 54.017s\n",
      "  training loss (in-iteration): \t0.124532\n",
      "  validation iou: \t\t\t0.669 \n"
     ]
    },
    {
     "name": "stderr",
     "output_type": "stream",
     "text": [
      "100%|██████████| 54/54 [00:48<00:00,  1.11it/s]\n",
      "  0%|          | 0/54 [00:00<?, ?it/s]"
     ]
    },
    {
     "name": "stdout",
     "output_type": "stream",
     "text": [
      "Epoch 42 of 90 took 52.959s\n",
      "  training loss (in-iteration): \t0.120003\n",
      "  validation iou: \t\t\t0.688 \n"
     ]
    },
    {
     "name": "stderr",
     "output_type": "stream",
     "text": [
      "100%|██████████| 54/54 [00:48<00:00,  1.11it/s]\n",
      "  0%|          | 0/54 [00:00<?, ?it/s]"
     ]
    },
    {
     "name": "stdout",
     "output_type": "stream",
     "text": [
      "Epoch 43 of 90 took 52.922s\n",
      "  training loss (in-iteration): \t0.116065\n",
      "  validation iou: \t\t\t0.694 \n"
     ]
    },
    {
     "name": "stderr",
     "output_type": "stream",
     "text": [
      "100%|██████████| 54/54 [00:48<00:00,  1.12it/s]\n",
      "  0%|          | 0/54 [00:00<?, ?it/s]"
     ]
    },
    {
     "name": "stdout",
     "output_type": "stream",
     "text": [
      "Epoch 44 of 90 took 52.546s\n",
      "  training loss (in-iteration): \t0.120186\n",
      "  validation iou: \t\t\t0.679 \n"
     ]
    },
    {
     "name": "stderr",
     "output_type": "stream",
     "text": [
      "100%|██████████| 54/54 [00:48<00:00,  1.11it/s]\n",
      "  0%|          | 0/54 [00:00<?, ?it/s]"
     ]
    },
    {
     "name": "stdout",
     "output_type": "stream",
     "text": [
      "Epoch 45 of 90 took 53.629s\n",
      "  training loss (in-iteration): \t0.119847\n",
      "  validation iou: \t\t\t0.669 \n"
     ]
    },
    {
     "name": "stderr",
     "output_type": "stream",
     "text": [
      "100%|██████████| 54/54 [00:48<00:00,  1.11it/s]\n",
      "  0%|          | 0/54 [00:00<?, ?it/s]"
     ]
    },
    {
     "name": "stdout",
     "output_type": "stream",
     "text": [
      "Epoch 46 of 90 took 53.046s\n",
      "  training loss (in-iteration): \t0.116749\n",
      "  validation iou: \t\t\t0.685 \n"
     ]
    },
    {
     "name": "stderr",
     "output_type": "stream",
     "text": [
      "100%|██████████| 54/54 [00:49<00:00,  1.10it/s]\n",
      "  0%|          | 0/54 [00:00<?, ?it/s]"
     ]
    },
    {
     "name": "stdout",
     "output_type": "stream",
     "text": [
      "Epoch 47 of 90 took 53.891s\n",
      "  training loss (in-iteration): \t0.114942\n",
      "  validation iou: \t\t\t0.679 \n"
     ]
    },
    {
     "name": "stderr",
     "output_type": "stream",
     "text": [
      "100%|██████████| 54/54 [00:48<00:00,  1.10it/s]\n",
      "  0%|          | 0/54 [00:00<?, ?it/s]"
     ]
    },
    {
     "name": "stdout",
     "output_type": "stream",
     "text": [
      "Epoch 48 of 90 took 54.041s\n",
      "  training loss (in-iteration): \t0.112595\n",
      "  validation iou: \t\t\t0.690 \n"
     ]
    },
    {
     "name": "stderr",
     "output_type": "stream",
     "text": [
      "100%|██████████| 54/54 [00:48<00:00,  1.11it/s]\n",
      "  0%|          | 0/54 [00:00<?, ?it/s]"
     ]
    },
    {
     "name": "stdout",
     "output_type": "stream",
     "text": [
      "Epoch 49 of 90 took 53.001s\n",
      "  training loss (in-iteration): \t0.114472\n",
      "  validation iou: \t\t\t0.730 \n"
     ]
    },
    {
     "name": "stderr",
     "output_type": "stream",
     "text": [
      "100%|██████████| 54/54 [00:48<00:00,  1.11it/s]\n",
      "  0%|          | 0/54 [00:00<?, ?it/s]"
     ]
    },
    {
     "name": "stdout",
     "output_type": "stream",
     "text": [
      "Epoch 50 of 90 took 52.988s\n",
      "  training loss (in-iteration): \t0.113825\n",
      "  validation iou: \t\t\t0.730 \n"
     ]
    },
    {
     "name": "stderr",
     "output_type": "stream",
     "text": [
      "100%|██████████| 54/54 [00:48<00:00,  1.12it/s]\n",
      "  0%|          | 0/54 [00:00<?, ?it/s]"
     ]
    },
    {
     "name": "stdout",
     "output_type": "stream",
     "text": [
      "Epoch 51 of 90 took 53.009s\n",
      "  training loss (in-iteration): \t0.104201\n",
      "  validation iou: \t\t\t0.737 \n"
     ]
    },
    {
     "name": "stderr",
     "output_type": "stream",
     "text": [
      "100%|██████████| 54/54 [00:48<00:00,  1.12it/s]\n",
      "  0%|          | 0/54 [00:00<?, ?it/s]"
     ]
    },
    {
     "name": "stdout",
     "output_type": "stream",
     "text": [
      "Epoch 52 of 90 took 52.492s\n",
      "  training loss (in-iteration): \t0.107361\n",
      "  validation iou: \t\t\t0.714 \n"
     ]
    },
    {
     "name": "stderr",
     "output_type": "stream",
     "text": [
      "100%|██████████| 54/54 [00:48<00:00,  1.12it/s]\n",
      "  0%|          | 0/54 [00:00<?, ?it/s]"
     ]
    },
    {
     "name": "stdout",
     "output_type": "stream",
     "text": [
      "Epoch 53 of 90 took 52.480s\n",
      "  training loss (in-iteration): \t0.105891\n",
      "  validation iou: \t\t\t0.699 \n"
     ]
    },
    {
     "name": "stderr",
     "output_type": "stream",
     "text": [
      "100%|██████████| 54/54 [00:48<00:00,  1.12it/s]\n",
      "  0%|          | 0/54 [00:00<?, ?it/s]"
     ]
    },
    {
     "name": "stdout",
     "output_type": "stream",
     "text": [
      "Epoch 54 of 90 took 52.677s\n",
      "  training loss (in-iteration): \t0.102906\n",
      "  validation iou: \t\t\t0.696 \n"
     ]
    },
    {
     "name": "stderr",
     "output_type": "stream",
     "text": [
      "100%|██████████| 54/54 [00:48<00:00,  1.12it/s]\n",
      "  0%|          | 0/54 [00:00<?, ?it/s]"
     ]
    },
    {
     "name": "stdout",
     "output_type": "stream",
     "text": [
      "Epoch 55 of 90 took 52.597s\n",
      "  training loss (in-iteration): \t0.099084\n",
      "  validation iou: \t\t\t0.717 \n"
     ]
    },
    {
     "name": "stderr",
     "output_type": "stream",
     "text": [
      "100%|██████████| 54/54 [00:48<00:00,  1.12it/s]\n",
      "  0%|          | 0/54 [00:00<?, ?it/s]"
     ]
    },
    {
     "name": "stdout",
     "output_type": "stream",
     "text": [
      "Epoch 56 of 90 took 52.553s\n",
      "  training loss (in-iteration): \t0.096874\n",
      "  validation iou: \t\t\t0.698 \n"
     ]
    },
    {
     "name": "stderr",
     "output_type": "stream",
     "text": [
      "100%|██████████| 54/54 [00:48<00:00,  1.11it/s]\n",
      "  0%|          | 0/54 [00:00<?, ?it/s]"
     ]
    },
    {
     "name": "stdout",
     "output_type": "stream",
     "text": [
      "Epoch 57 of 90 took 52.995s\n",
      "  training loss (in-iteration): \t0.093189\n",
      "  validation iou: \t\t\t0.717 \n"
     ]
    },
    {
     "name": "stderr",
     "output_type": "stream",
     "text": [
      "100%|██████████| 54/54 [00:48<00:00,  1.11it/s]\n",
      "  0%|          | 0/54 [00:00<?, ?it/s]"
     ]
    },
    {
     "name": "stdout",
     "output_type": "stream",
     "text": [
      "Epoch 58 of 90 took 52.703s\n",
      "  training loss (in-iteration): \t0.105539\n",
      "  validation iou: \t\t\t0.685 \n"
     ]
    },
    {
     "name": "stderr",
     "output_type": "stream",
     "text": [
      "100%|██████████| 54/54 [00:48<00:00,  1.12it/s]\n",
      "  0%|          | 0/54 [00:00<?, ?it/s]"
     ]
    },
    {
     "name": "stdout",
     "output_type": "stream",
     "text": [
      "Epoch 59 of 90 took 52.749s\n",
      "  training loss (in-iteration): \t0.102348\n",
      "  validation iou: \t\t\t0.728 \n"
     ]
    },
    {
     "name": "stderr",
     "output_type": "stream",
     "text": [
      "100%|██████████| 54/54 [00:48<00:00,  1.12it/s]\n",
      "  0%|          | 0/54 [00:00<?, ?it/s]"
     ]
    },
    {
     "name": "stdout",
     "output_type": "stream",
     "text": [
      "Epoch 60 of 90 took 52.766s\n",
      "  training loss (in-iteration): \t0.095144\n",
      "  validation iou: \t\t\t0.741 \n"
     ]
    },
    {
     "name": "stderr",
     "output_type": "stream",
     "text": [
      "100%|██████████| 54/54 [00:48<00:00,  1.12it/s]\n",
      "  0%|          | 0/54 [00:00<?, ?it/s]"
     ]
    },
    {
     "name": "stdout",
     "output_type": "stream",
     "text": [
      "Epoch 61 of 90 took 52.627s\n",
      "  training loss (in-iteration): \t0.083388\n",
      "  validation iou: \t\t\t0.758 \n"
     ]
    },
    {
     "name": "stderr",
     "output_type": "stream",
     "text": [
      "100%|██████████| 54/54 [00:48<00:00,  1.11it/s]\n",
      "  0%|          | 0/54 [00:00<?, ?it/s]"
     ]
    },
    {
     "name": "stdout",
     "output_type": "stream",
     "text": [
      "Epoch 62 of 90 took 52.919s\n",
      "  training loss (in-iteration): \t0.081904\n",
      "  validation iou: \t\t\t0.768 \n"
     ]
    },
    {
     "name": "stderr",
     "output_type": "stream",
     "text": [
      "100%|██████████| 54/54 [00:48<00:00,  1.12it/s]\n",
      "  0%|          | 0/54 [00:00<?, ?it/s]"
     ]
    },
    {
     "name": "stdout",
     "output_type": "stream",
     "text": [
      "Epoch 63 of 90 took 52.572s\n",
      "  training loss (in-iteration): \t0.076396\n",
      "  validation iou: \t\t\t0.759 \n"
     ]
    },
    {
     "name": "stderr",
     "output_type": "stream",
     "text": [
      "100%|██████████| 54/54 [00:48<00:00,  1.12it/s]\n",
      "  0%|          | 0/54 [00:00<?, ?it/s]"
     ]
    },
    {
     "name": "stdout",
     "output_type": "stream",
     "text": [
      "Epoch 64 of 90 took 52.889s\n",
      "  training loss (in-iteration): \t0.076497\n",
      "  validation iou: \t\t\t0.762 \n"
     ]
    },
    {
     "name": "stderr",
     "output_type": "stream",
     "text": [
      "100%|██████████| 54/54 [00:48<00:00,  1.11it/s]\n",
      "  0%|          | 0/54 [00:00<?, ?it/s]"
     ]
    },
    {
     "name": "stdout",
     "output_type": "stream",
     "text": [
      "Epoch 65 of 90 took 53.251s\n",
      "  training loss (in-iteration): \t0.078027\n",
      "  validation iou: \t\t\t0.755 \n"
     ]
    },
    {
     "name": "stderr",
     "output_type": "stream",
     "text": [
      "100%|██████████| 54/54 [00:48<00:00,  1.12it/s]\n",
      "  0%|          | 0/54 [00:00<?, ?it/s]"
     ]
    },
    {
     "name": "stdout",
     "output_type": "stream",
     "text": [
      "Epoch 66 of 90 took 52.881s\n",
      "  training loss (in-iteration): \t0.079447\n",
      "  validation iou: \t\t\t0.767 \n"
     ]
    },
    {
     "name": "stderr",
     "output_type": "stream",
     "text": [
      "100%|██████████| 54/54 [00:48<00:00,  1.11it/s]\n",
      "  0%|          | 0/54 [00:00<?, ?it/s]"
     ]
    },
    {
     "name": "stdout",
     "output_type": "stream",
     "text": [
      "Epoch 67 of 90 took 52.854s\n",
      "  training loss (in-iteration): \t0.076325\n",
      "  validation iou: \t\t\t0.759 \n"
     ]
    },
    {
     "name": "stderr",
     "output_type": "stream",
     "text": [
      "100%|██████████| 54/54 [00:48<00:00,  1.11it/s]\n",
      "  0%|          | 0/54 [00:00<?, ?it/s]"
     ]
    },
    {
     "name": "stdout",
     "output_type": "stream",
     "text": [
      "Epoch 68 of 90 took 52.960s\n",
      "  training loss (in-iteration): \t0.076940\n",
      "  validation iou: \t\t\t0.753 \n"
     ]
    },
    {
     "name": "stderr",
     "output_type": "stream",
     "text": [
      "100%|██████████| 54/54 [00:48<00:00,  1.12it/s]\n",
      "  0%|          | 0/54 [00:00<?, ?it/s]"
     ]
    },
    {
     "name": "stdout",
     "output_type": "stream",
     "text": [
      "Epoch 69 of 90 took 52.803s\n",
      "  training loss (in-iteration): \t0.075880\n",
      "  validation iou: \t\t\t0.767 \n"
     ]
    },
    {
     "name": "stderr",
     "output_type": "stream",
     "text": [
      "100%|██████████| 54/54 [00:48<00:00,  1.11it/s]\n",
      "  0%|          | 0/54 [00:00<?, ?it/s]"
     ]
    },
    {
     "name": "stdout",
     "output_type": "stream",
     "text": [
      "Epoch 70 of 90 took 53.056s\n",
      "  training loss (in-iteration): \t0.075826\n",
      "  validation iou: \t\t\t0.767 \n"
     ]
    },
    {
     "name": "stderr",
     "output_type": "stream",
     "text": [
      "100%|██████████| 54/54 [00:48<00:00,  1.11it/s]\n",
      "  0%|          | 0/54 [00:00<?, ?it/s]"
     ]
    },
    {
     "name": "stdout",
     "output_type": "stream",
     "text": [
      "Epoch 71 of 90 took 52.842s\n",
      "  training loss (in-iteration): \t0.075315\n",
      "  validation iou: \t\t\t0.753 \n"
     ]
    },
    {
     "name": "stderr",
     "output_type": "stream",
     "text": [
      "100%|██████████| 54/54 [00:48<00:00,  1.11it/s]\n",
      "  0%|          | 0/54 [00:00<?, ?it/s]"
     ]
    },
    {
     "name": "stdout",
     "output_type": "stream",
     "text": [
      "Epoch 72 of 90 took 52.793s\n",
      "  training loss (in-iteration): \t0.075179\n",
      "  validation iou: \t\t\t0.764 \n"
     ]
    },
    {
     "name": "stderr",
     "output_type": "stream",
     "text": [
      "100%|██████████| 54/54 [00:48<00:00,  1.11it/s]\n",
      "  0%|          | 0/54 [00:00<?, ?it/s]"
     ]
    },
    {
     "name": "stdout",
     "output_type": "stream",
     "text": [
      "Epoch 73 of 90 took 53.108s\n",
      "  training loss (in-iteration): \t0.073919\n",
      "  validation iou: \t\t\t0.764 \n"
     ]
    },
    {
     "name": "stderr",
     "output_type": "stream",
     "text": [
      "100%|██████████| 54/54 [00:48<00:00,  1.11it/s]\n",
      "  0%|          | 0/54 [00:00<?, ?it/s]"
     ]
    },
    {
     "name": "stdout",
     "output_type": "stream",
     "text": [
      "Epoch 74 of 90 took 53.028s\n",
      "  training loss (in-iteration): \t0.072374\n",
      "  validation iou: \t\t\t0.765 \n"
     ]
    },
    {
     "name": "stderr",
     "output_type": "stream",
     "text": [
      "100%|██████████| 54/54 [00:48<00:00,  1.11it/s]\n",
      "  0%|          | 0/54 [00:00<?, ?it/s]"
     ]
    },
    {
     "name": "stdout",
     "output_type": "stream",
     "text": [
      "Epoch 75 of 90 took 53.036s\n",
      "  training loss (in-iteration): \t0.071128\n",
      "  validation iou: \t\t\t0.767 \n"
     ]
    },
    {
     "name": "stderr",
     "output_type": "stream",
     "text": [
      "100%|██████████| 54/54 [00:48<00:00,  1.11it/s]\n",
      "  0%|          | 0/54 [00:00<?, ?it/s]"
     ]
    },
    {
     "name": "stdout",
     "output_type": "stream",
     "text": [
      "Epoch 76 of 90 took 52.785s\n",
      "  training loss (in-iteration): \t0.071661\n",
      "  validation iou: \t\t\t0.776 \n"
     ]
    },
    {
     "name": "stderr",
     "output_type": "stream",
     "text": [
      "100%|██████████| 54/54 [00:48<00:00,  1.12it/s]\n",
      "  0%|          | 0/54 [00:00<?, ?it/s]"
     ]
    },
    {
     "name": "stdout",
     "output_type": "stream",
     "text": [
      "Epoch 77 of 90 took 52.337s\n",
      "  training loss (in-iteration): \t0.072039\n",
      "  validation iou: \t\t\t0.765 \n"
     ]
    },
    {
     "name": "stderr",
     "output_type": "stream",
     "text": [
      "100%|██████████| 54/54 [00:48<00:00,  1.11it/s]\n",
      "  0%|          | 0/54 [00:00<?, ?it/s]"
     ]
    },
    {
     "name": "stdout",
     "output_type": "stream",
     "text": [
      "Epoch 78 of 90 took 52.928s\n",
      "  training loss (in-iteration): \t0.073023\n",
      "  validation iou: \t\t\t0.766 \n"
     ]
    },
    {
     "name": "stderr",
     "output_type": "stream",
     "text": [
      "100%|██████████| 54/54 [00:48<00:00,  1.11it/s]\n",
      "  0%|          | 0/54 [00:00<?, ?it/s]"
     ]
    },
    {
     "name": "stdout",
     "output_type": "stream",
     "text": [
      "Epoch 79 of 90 took 52.604s\n",
      "  training loss (in-iteration): \t0.072061\n",
      "  validation iou: \t\t\t0.777 \n"
     ]
    },
    {
     "name": "stderr",
     "output_type": "stream",
     "text": [
      "100%|██████████| 54/54 [00:48<00:00,  1.12it/s]\n",
      "  0%|          | 0/54 [00:00<?, ?it/s]"
     ]
    },
    {
     "name": "stdout",
     "output_type": "stream",
     "text": [
      "Epoch 80 of 90 took 52.746s\n",
      "  training loss (in-iteration): \t0.071854\n",
      "  validation iou: \t\t\t0.767 \n"
     ]
    },
    {
     "name": "stderr",
     "output_type": "stream",
     "text": [
      "100%|██████████| 54/54 [00:48<00:00,  1.11it/s]\n",
      "  0%|          | 0/54 [00:00<?, ?it/s]"
     ]
    },
    {
     "name": "stdout",
     "output_type": "stream",
     "text": [
      "Epoch 81 of 90 took 53.107s\n",
      "  training loss (in-iteration): \t0.070478\n",
      "  validation iou: \t\t\t0.769 \n"
     ]
    },
    {
     "name": "stderr",
     "output_type": "stream",
     "text": [
      "100%|██████████| 54/54 [00:49<00:00,  1.10it/s]\n",
      "  0%|          | 0/54 [00:00<?, ?it/s]"
     ]
    },
    {
     "name": "stdout",
     "output_type": "stream",
     "text": [
      "Epoch 82 of 90 took 53.496s\n",
      "  training loss (in-iteration): \t0.070378\n",
      "  validation iou: \t\t\t0.767 \n"
     ]
    },
    {
     "name": "stderr",
     "output_type": "stream",
     "text": [
      "100%|██████████| 54/54 [00:49<00:00,  1.08it/s]\n"
     ]
    },
    {
     "name": "stdout",
     "output_type": "stream",
     "text": [
      "Epoch 83 of 90 took 940.972s\n",
      "  training loss (in-iteration): \t0.070258\n",
      "  validation iou: \t\t\t0.768 \n"
     ]
    },
    {
     "name": "stderr",
     "output_type": "stream",
     "text": [
      "100%|██████████| 54/54 [02:53<00:00,  3.21s/it]  \n",
      "  0%|          | 0/54 [00:00<?, ?it/s]"
     ]
    },
    {
     "name": "stdout",
     "output_type": "stream",
     "text": [
      "Epoch 84 of 90 took 207.873s\n",
      "  training loss (in-iteration): \t0.069542\n",
      "  validation iou: \t\t\t0.772 \n"
     ]
    },
    {
     "name": "stderr",
     "output_type": "stream",
     "text": [
      "100%|██████████| 54/54 [00:49<00:00,  1.10it/s]\n",
      "  0%|          | 0/54 [00:00<?, ?it/s]"
     ]
    },
    {
     "name": "stdout",
     "output_type": "stream",
     "text": [
      "Epoch 85 of 90 took 54.867s\n",
      "  training loss (in-iteration): \t0.070158\n",
      "  validation iou: \t\t\t0.770 \n"
     ]
    },
    {
     "name": "stderr",
     "output_type": "stream",
     "text": [
      "100%|██████████| 54/54 [00:47<00:00,  1.14it/s]\n",
      "  0%|          | 0/54 [00:00<?, ?it/s]"
     ]
    },
    {
     "name": "stdout",
     "output_type": "stream",
     "text": [
      "Epoch 86 of 90 took 51.679s\n",
      "  training loss (in-iteration): \t0.067816\n",
      "  validation iou: \t\t\t0.771 \n"
     ]
    },
    {
     "name": "stderr",
     "output_type": "stream",
     "text": [
      "100%|██████████| 54/54 [00:47<00:00,  1.13it/s]\n",
      "  0%|          | 0/54 [00:00<?, ?it/s]"
     ]
    },
    {
     "name": "stdout",
     "output_type": "stream",
     "text": [
      "Epoch 87 of 90 took 52.088s\n",
      "  training loss (in-iteration): \t0.066891\n",
      "  validation iou: \t\t\t0.768 \n"
     ]
    },
    {
     "name": "stderr",
     "output_type": "stream",
     "text": [
      "100%|██████████| 54/54 [00:47<00:00,  1.13it/s]\n",
      "  0%|          | 0/54 [00:00<?, ?it/s]"
     ]
    },
    {
     "name": "stdout",
     "output_type": "stream",
     "text": [
      "Epoch 88 of 90 took 51.992s\n",
      "  training loss (in-iteration): \t0.067127\n",
      "  validation iou: \t\t\t0.770 \n"
     ]
    },
    {
     "name": "stderr",
     "output_type": "stream",
     "text": [
      "100%|██████████| 54/54 [00:48<00:00,  1.12it/s]\n",
      "  0%|          | 0/54 [00:00<?, ?it/s]"
     ]
    },
    {
     "name": "stdout",
     "output_type": "stream",
     "text": [
      "Epoch 89 of 90 took 52.255s\n",
      "  training loss (in-iteration): \t0.067434\n",
      "  validation iou: \t\t\t0.768 \n"
     ]
    },
    {
     "name": "stderr",
     "output_type": "stream",
     "text": [
      "100%|██████████| 54/54 [00:48<00:00,  1.12it/s]\n"
     ]
    },
    {
     "name": "stdout",
     "output_type": "stream",
     "text": [
      "Epoch 90 of 90 took 52.419s\n",
      "  training loss (in-iteration): \t0.068777\n",
      "  validation iou: \t\t\t0.770 \n"
     ]
    }
   ],
   "source": [
    "train_loop(unet, optimizer, train_batch_gen, test_batch_gen, epochs_for_lr_decay=[60, 80], num_epochs=90)"
   ]
  },
  {
   "cell_type": "code",
   "execution_count": 14,
   "metadata": {},
   "outputs": [
    {
     "name": "stdout",
     "output_type": "stream",
     "text": [
      "Final test iou for unet: \t\t\t0.770 \n"
     ]
    }
   ],
   "source": [
    "val_accuracy = eval_model(unet, test_batch_gen)\n",
    "print(\"Final test iou for unet: \\t\\t\\t{:.3f} \".format(val_accuracy))"
   ]
  },
  {
   "cell_type": "markdown",
   "metadata": {},
   "source": [
    "# Training using pretrained classifier"
   ]
  },
  {
   "cell_type": "code",
   "execution_count": 15,
   "metadata": {},
   "outputs": [],
   "source": [
    "class ResNetBlock(nn.Module):\n",
    "    def __init__(self, ich, outch):\n",
    "        super().__init__()\n",
    "        self.conv1 = nn.Conv2d(ich, outch, 3, 1, 1)\n",
    "        self.bn1 = nn.BatchNorm2d(outch)\n",
    "        self.conv2 = nn.Conv2d(outch, outch, 3, 1, 1)\n",
    "        self.bn2 = nn.BatchNorm2d(outch)\n",
    "        self.relu = nn.ReLU()\n",
    "        self.skip = nn.Conv2d(ich, outch, 1)\n",
    "        \n",
    "    def forward(self, x):\n",
    "        skip = self.skip(x)\n",
    "        x = self.bn2(self.conv2(self.relu(self.bn1(self.conv1(x)))))\n",
    "        return self.relu(x + skip)\n",
    "        \n",
    "\n",
    "class SegResNet(nn.Module):\n",
    "\n",
    "    def __init__(self, n_class=2):\n",
    "        super().__init__()\n",
    "        resnet18 = models.resnet18(pretrained=True)\n",
    "        self.encoder = nn.Sequential(resnet18.conv1,resnet18.bn1, resnet18.relu, \n",
    "                        resnet18.maxpool, resnet18.layer1, resnet18.layer2, resnet18.layer3)\n",
    "                       \n",
    "        self.upsample = nn.PixelShuffle(2)\n",
    "        self.res0 = ResNetBlock(256, 256)\n",
    "        self.res1 = ResNetBlock(64, 128)\n",
    "        self.res2 = ResNetBlock(32, 128)\n",
    "        self.res3 = ResNetBlock(32, 128)\n",
    "        self.res4 = ResNetBlock(32, 16)\n",
    "        self.conv_last = nn.Conv2d(16, n_class, 1)\n",
    "        self.decoder = nn.Sequential(self.res0, self.upsample, self.res1, self.upsample, self.res2,\n",
    "                                     self.upsample, self.res3, self.upsample, self.res4)\n",
    "        \n",
    "        \n",
    "    def forward(self, x):\n",
    "        x = self.encoder(x)\n",
    "        x = self.decoder(x)\n",
    "        return self.conv_last(x)"
   ]
  },
  {
   "cell_type": "code",
   "execution_count": 16,
   "metadata": {},
   "outputs": [],
   "source": [
    "torch.cuda.empty_cache()\n",
    "\n",
    "batch_size = 8\n",
    "train_batch_gen = torch.utils.data.DataLoader(train_dataset, \n",
    "                                              batch_size=batch_size,\n",
    "                                              shuffle=True,\n",
    "                                              num_workers=4)\n",
    "\n",
    "test_batch_gen = torch.utils.data.DataLoader(test_dataset, \n",
    "                                              batch_size=batch_size,\n",
    "                                              shuffle=False,\n",
    "                                              num_workers=4)"
   ]
  },
  {
   "cell_type": "code",
   "execution_count": 17,
   "metadata": {},
   "outputs": [],
   "source": [
    "seg_resnet = SegResNet().to(device)\n",
    "optimizer = torch.optim.Adam([\n",
    "        {'params': seg_resnet.decoder.parameters()},\n",
    "        {'params': seg_resnet.conv_last.parameters()},\n",
    "        {'params': seg_resnet.encoder.parameters(), 'lr': 1e-4}\n",
    "    ], lr=1e-3, weight_decay=1e-4)"
   ]
  },
  {
   "cell_type": "code",
   "execution_count": 18,
   "metadata": {},
   "outputs": [
    {
     "name": "stderr",
     "output_type": "stream",
     "text": [
      "100%|██████████| 81/81 [01:25<00:00,  1.05s/it]\n",
      "  0%|          | 0/81 [00:00<?, ?it/s]"
     ]
    },
    {
     "name": "stdout",
     "output_type": "stream",
     "text": [
      "Epoch 1 of 50 took 93.337s\n",
      "  training loss (in-iteration): \t0.229049\n",
      "  validation iou: \t\t\t0.697 \n"
     ]
    },
    {
     "name": "stderr",
     "output_type": "stream",
     "text": [
      "100%|██████████| 81/81 [00:58<00:00,  1.38it/s]\n",
      "  0%|          | 0/81 [00:00<?, ?it/s]"
     ]
    },
    {
     "name": "stdout",
     "output_type": "stream",
     "text": [
      "Epoch 2 of 50 took 66.606s\n",
      "  training loss (in-iteration): \t0.122689\n",
      "  validation iou: \t\t\t0.727 \n"
     ]
    },
    {
     "name": "stderr",
     "output_type": "stream",
     "text": [
      "100%|██████████| 81/81 [00:59<00:00,  1.37it/s]\n",
      "  0%|          | 0/81 [00:00<?, ?it/s]"
     ]
    },
    {
     "name": "stdout",
     "output_type": "stream",
     "text": [
      "Epoch 3 of 50 took 66.925s\n",
      "  training loss (in-iteration): \t0.096233\n",
      "  validation iou: \t\t\t0.799 \n"
     ]
    },
    {
     "name": "stderr",
     "output_type": "stream",
     "text": [
      "100%|██████████| 81/81 [00:58<00:00,  1.37it/s]\n",
      "  0%|          | 0/81 [00:00<?, ?it/s]"
     ]
    },
    {
     "name": "stdout",
     "output_type": "stream",
     "text": [
      "Epoch 4 of 50 took 66.355s\n",
      "  training loss (in-iteration): \t0.088385\n",
      "  validation iou: \t\t\t0.821 \n"
     ]
    },
    {
     "name": "stderr",
     "output_type": "stream",
     "text": [
      "100%|██████████| 81/81 [00:58<00:00,  1.38it/s]\n",
      "  0%|          | 0/81 [00:00<?, ?it/s]"
     ]
    },
    {
     "name": "stdout",
     "output_type": "stream",
     "text": [
      "Epoch 5 of 50 took 65.890s\n",
      "  training loss (in-iteration): \t0.078303\n",
      "  validation iou: \t\t\t0.802 \n"
     ]
    },
    {
     "name": "stderr",
     "output_type": "stream",
     "text": [
      "100%|██████████| 81/81 [00:57<00:00,  1.40it/s]\n",
      "  0%|          | 0/81 [00:00<?, ?it/s]"
     ]
    },
    {
     "name": "stdout",
     "output_type": "stream",
     "text": [
      "Epoch 6 of 50 took 64.475s\n",
      "  training loss (in-iteration): \t0.066994\n",
      "  validation iou: \t\t\t0.778 \n"
     ]
    },
    {
     "name": "stderr",
     "output_type": "stream",
     "text": [
      "100%|██████████| 81/81 [00:57<00:00,  1.41it/s]\n",
      "  0%|          | 0/81 [00:00<?, ?it/s]"
     ]
    },
    {
     "name": "stdout",
     "output_type": "stream",
     "text": [
      "Epoch 7 of 50 took 64.324s\n",
      "  training loss (in-iteration): \t0.059324\n",
      "  validation iou: \t\t\t0.827 \n"
     ]
    },
    {
     "name": "stderr",
     "output_type": "stream",
     "text": [
      "100%|██████████| 81/81 [00:57<00:00,  1.41it/s]\n",
      "  0%|          | 0/81 [00:00<?, ?it/s]"
     ]
    },
    {
     "name": "stdout",
     "output_type": "stream",
     "text": [
      "Epoch 8 of 50 took 64.224s\n",
      "  training loss (in-iteration): \t0.056504\n",
      "  validation iou: \t\t\t0.801 \n"
     ]
    },
    {
     "name": "stderr",
     "output_type": "stream",
     "text": [
      "100%|██████████| 81/81 [00:57<00:00,  1.41it/s]\n",
      "  0%|          | 0/81 [00:00<?, ?it/s]"
     ]
    },
    {
     "name": "stdout",
     "output_type": "stream",
     "text": [
      "Epoch 9 of 50 took 64.146s\n",
      "  training loss (in-iteration): \t0.054047\n",
      "  validation iou: \t\t\t0.832 \n"
     ]
    },
    {
     "name": "stderr",
     "output_type": "stream",
     "text": [
      "100%|██████████| 81/81 [00:57<00:00,  1.42it/s]\n",
      "  0%|          | 0/81 [00:00<?, ?it/s]"
     ]
    },
    {
     "name": "stdout",
     "output_type": "stream",
     "text": [
      "Epoch 10 of 50 took 63.827s\n",
      "  training loss (in-iteration): \t0.047976\n",
      "  validation iou: \t\t\t0.818 \n"
     ]
    },
    {
     "name": "stderr",
     "output_type": "stream",
     "text": [
      "100%|██████████| 81/81 [00:57<00:00,  1.41it/s]\n",
      "  0%|          | 0/81 [00:00<?, ?it/s]"
     ]
    },
    {
     "name": "stdout",
     "output_type": "stream",
     "text": [
      "Epoch 11 of 50 took 64.175s\n",
      "  training loss (in-iteration): \t0.046710\n",
      "  validation iou: \t\t\t0.836 \n"
     ]
    },
    {
     "name": "stderr",
     "output_type": "stream",
     "text": [
      "100%|██████████| 81/81 [00:57<00:00,  1.42it/s]\n",
      "  0%|          | 0/81 [00:00<?, ?it/s]"
     ]
    },
    {
     "name": "stdout",
     "output_type": "stream",
     "text": [
      "Epoch 12 of 50 took 63.926s\n",
      "  training loss (in-iteration): \t0.047339\n",
      "  validation iou: \t\t\t0.849 \n"
     ]
    },
    {
     "name": "stderr",
     "output_type": "stream",
     "text": [
      "100%|██████████| 81/81 [00:57<00:00,  1.41it/s]\n",
      "  0%|          | 0/81 [00:00<?, ?it/s]"
     ]
    },
    {
     "name": "stdout",
     "output_type": "stream",
     "text": [
      "Epoch 13 of 50 took 64.244s\n",
      "  training loss (in-iteration): \t0.039245\n",
      "  validation iou: \t\t\t0.808 \n"
     ]
    },
    {
     "name": "stderr",
     "output_type": "stream",
     "text": [
      "100%|██████████| 81/81 [00:57<00:00,  1.40it/s]\n",
      "  0%|          | 0/81 [00:00<?, ?it/s]"
     ]
    },
    {
     "name": "stdout",
     "output_type": "stream",
     "text": [
      "Epoch 14 of 50 took 64.892s\n",
      "  training loss (in-iteration): \t0.044409\n",
      "  validation iou: \t\t\t0.842 \n"
     ]
    },
    {
     "name": "stderr",
     "output_type": "stream",
     "text": [
      "100%|██████████| 81/81 [00:57<00:00,  1.40it/s]\n",
      "  0%|          | 0/81 [00:00<?, ?it/s]"
     ]
    },
    {
     "name": "stdout",
     "output_type": "stream",
     "text": [
      "Epoch 15 of 50 took 65.081s\n",
      "  training loss (in-iteration): \t0.037394\n",
      "  validation iou: \t\t\t0.814 \n"
     ]
    },
    {
     "name": "stderr",
     "output_type": "stream",
     "text": [
      "100%|██████████| 81/81 [00:57<00:00,  1.40it/s]\n",
      "  0%|          | 0/81 [00:00<?, ?it/s]"
     ]
    },
    {
     "name": "stdout",
     "output_type": "stream",
     "text": [
      "Epoch 16 of 50 took 65.061s\n",
      "  training loss (in-iteration): \t0.045620\n",
      "  validation iou: \t\t\t0.801 \n"
     ]
    },
    {
     "name": "stderr",
     "output_type": "stream",
     "text": [
      "100%|██████████| 81/81 [00:57<00:00,  1.40it/s]\n",
      "  0%|          | 0/81 [00:00<?, ?it/s]"
     ]
    },
    {
     "name": "stdout",
     "output_type": "stream",
     "text": [
      "Epoch 17 of 50 took 64.730s\n",
      "  training loss (in-iteration): \t0.041173\n",
      "  validation iou: \t\t\t0.787 \n"
     ]
    },
    {
     "name": "stderr",
     "output_type": "stream",
     "text": [
      "100%|██████████| 81/81 [00:57<00:00,  1.41it/s]\n",
      "  0%|          | 0/81 [00:00<?, ?it/s]"
     ]
    },
    {
     "name": "stdout",
     "output_type": "stream",
     "text": [
      "Epoch 18 of 50 took 64.679s\n",
      "  training loss (in-iteration): \t0.040206\n",
      "  validation iou: \t\t\t0.827 \n"
     ]
    },
    {
     "name": "stderr",
     "output_type": "stream",
     "text": [
      "100%|██████████| 81/81 [00:58<00:00,  1.39it/s]\n",
      "  0%|          | 0/81 [00:00<?, ?it/s]"
     ]
    },
    {
     "name": "stdout",
     "output_type": "stream",
     "text": [
      "Epoch 19 of 50 took 65.683s\n",
      "  training loss (in-iteration): \t0.039195\n",
      "  validation iou: \t\t\t0.856 \n"
     ]
    },
    {
     "name": "stderr",
     "output_type": "stream",
     "text": [
      "100%|██████████| 81/81 [00:58<00:00,  1.39it/s]\n",
      "  0%|          | 0/81 [00:00<?, ?it/s]"
     ]
    },
    {
     "name": "stdout",
     "output_type": "stream",
     "text": [
      "Epoch 20 of 50 took 64.874s\n",
      "  training loss (in-iteration): \t0.033999\n",
      "  validation iou: \t\t\t0.825 \n"
     ]
    },
    {
     "name": "stderr",
     "output_type": "stream",
     "text": [
      "100%|██████████| 81/81 [00:57<00:00,  1.40it/s]\n",
      "  0%|          | 0/81 [00:00<?, ?it/s]"
     ]
    },
    {
     "name": "stdout",
     "output_type": "stream",
     "text": [
      "Epoch 21 of 50 took 64.537s\n",
      "  training loss (in-iteration): \t0.037990\n",
      "  validation iou: \t\t\t0.841 \n"
     ]
    },
    {
     "name": "stderr",
     "output_type": "stream",
     "text": [
      "100%|██████████| 81/81 [00:57<00:00,  1.41it/s]\n",
      "  0%|          | 0/81 [00:00<?, ?it/s]"
     ]
    },
    {
     "name": "stdout",
     "output_type": "stream",
     "text": [
      "Epoch 22 of 50 took 64.527s\n",
      "  training loss (in-iteration): \t0.034692\n",
      "  validation iou: \t\t\t0.804 \n"
     ]
    },
    {
     "name": "stderr",
     "output_type": "stream",
     "text": [
      "100%|██████████| 81/81 [00:57<00:00,  1.40it/s]\n",
      "  0%|          | 0/81 [00:00<?, ?it/s]"
     ]
    },
    {
     "name": "stdout",
     "output_type": "stream",
     "text": [
      "Epoch 23 of 50 took 64.725s\n",
      "  training loss (in-iteration): \t0.032820\n",
      "  validation iou: \t\t\t0.836 \n"
     ]
    },
    {
     "name": "stderr",
     "output_type": "stream",
     "text": [
      "100%|██████████| 81/81 [00:57<00:00,  1.41it/s]\n",
      "  0%|          | 0/81 [00:00<?, ?it/s]"
     ]
    },
    {
     "name": "stdout",
     "output_type": "stream",
     "text": [
      "Epoch 24 of 50 took 64.324s\n",
      "  training loss (in-iteration): \t0.036983\n",
      "  validation iou: \t\t\t0.831 \n"
     ]
    },
    {
     "name": "stderr",
     "output_type": "stream",
     "text": [
      "100%|██████████| 81/81 [00:57<00:00,  1.42it/s]\n",
      "  0%|          | 0/81 [00:00<?, ?it/s]"
     ]
    },
    {
     "name": "stdout",
     "output_type": "stream",
     "text": [
      "Epoch 25 of 50 took 63.710s\n",
      "  training loss (in-iteration): \t0.030385\n",
      "  validation iou: \t\t\t0.857 \n"
     ]
    },
    {
     "name": "stderr",
     "output_type": "stream",
     "text": [
      "100%|██████████| 81/81 [00:57<00:00,  1.42it/s]\n",
      "  0%|          | 0/81 [00:00<?, ?it/s]"
     ]
    },
    {
     "name": "stdout",
     "output_type": "stream",
     "text": [
      "Epoch 26 of 50 took 63.624s\n",
      "  training loss (in-iteration): \t0.030782\n",
      "  validation iou: \t\t\t0.855 \n"
     ]
    },
    {
     "name": "stderr",
     "output_type": "stream",
     "text": [
      "100%|██████████| 81/81 [00:57<00:00,  1.42it/s]\n",
      "  0%|          | 0/81 [00:00<?, ?it/s]"
     ]
    },
    {
     "name": "stdout",
     "output_type": "stream",
     "text": [
      "Epoch 27 of 50 took 63.494s\n",
      "  training loss (in-iteration): \t0.029749\n",
      "  validation iou: \t\t\t0.850 \n"
     ]
    },
    {
     "name": "stderr",
     "output_type": "stream",
     "text": [
      "100%|██████████| 81/81 [00:56<00:00,  1.42it/s]\n",
      "  0%|          | 0/81 [00:00<?, ?it/s]"
     ]
    },
    {
     "name": "stdout",
     "output_type": "stream",
     "text": [
      "Epoch 28 of 50 took 63.433s\n",
      "  training loss (in-iteration): \t0.027511\n",
      "  validation iou: \t\t\t0.862 \n"
     ]
    },
    {
     "name": "stderr",
     "output_type": "stream",
     "text": [
      "100%|██████████| 81/81 [00:56<00:00,  1.42it/s]\n",
      "  0%|          | 0/81 [00:00<?, ?it/s]"
     ]
    },
    {
     "name": "stdout",
     "output_type": "stream",
     "text": [
      "Epoch 29 of 50 took 63.516s\n",
      "  training loss (in-iteration): \t0.031994\n",
      "  validation iou: \t\t\t0.861 \n"
     ]
    },
    {
     "name": "stderr",
     "output_type": "stream",
     "text": [
      "100%|██████████| 81/81 [00:56<00:00,  1.42it/s]\n",
      "  0%|          | 0/81 [00:00<?, ?it/s]"
     ]
    },
    {
     "name": "stdout",
     "output_type": "stream",
     "text": [
      "Epoch 30 of 50 took 63.482s\n",
      "  training loss (in-iteration): \t0.030408\n",
      "  validation iou: \t\t\t0.802 \n"
     ]
    },
    {
     "name": "stderr",
     "output_type": "stream",
     "text": [
      "100%|██████████| 81/81 [00:56<00:00,  1.42it/s]\n",
      "  0%|          | 0/81 [00:00<?, ?it/s]"
     ]
    },
    {
     "name": "stdout",
     "output_type": "stream",
     "text": [
      "Epoch 31 of 50 took 63.418s\n",
      "  training loss (in-iteration): \t0.026129\n",
      "  validation iou: \t\t\t0.869 \n"
     ]
    },
    {
     "name": "stderr",
     "output_type": "stream",
     "text": [
      "100%|██████████| 81/81 [00:56<00:00,  1.42it/s]\n",
      "  0%|          | 0/81 [00:00<?, ?it/s]"
     ]
    },
    {
     "name": "stdout",
     "output_type": "stream",
     "text": [
      "Epoch 32 of 50 took 63.581s\n",
      "  training loss (in-iteration): \t0.023613\n",
      "  validation iou: \t\t\t0.874 \n"
     ]
    },
    {
     "name": "stderr",
     "output_type": "stream",
     "text": [
      "100%|██████████| 81/81 [00:56<00:00,  1.42it/s]\n",
      "  0%|          | 0/81 [00:00<?, ?it/s]"
     ]
    },
    {
     "name": "stdout",
     "output_type": "stream",
     "text": [
      "Epoch 33 of 50 took 63.471s\n",
      "  training loss (in-iteration): \t0.023693\n",
      "  validation iou: \t\t\t0.870 \n"
     ]
    },
    {
     "name": "stderr",
     "output_type": "stream",
     "text": [
      "100%|██████████| 81/81 [00:57<00:00,  1.42it/s]\n",
      "  0%|          | 0/81 [00:00<?, ?it/s]"
     ]
    },
    {
     "name": "stdout",
     "output_type": "stream",
     "text": [
      "Epoch 34 of 50 took 63.617s\n",
      "  training loss (in-iteration): \t0.022759\n",
      "  validation iou: \t\t\t0.875 \n"
     ]
    },
    {
     "name": "stderr",
     "output_type": "stream",
     "text": [
      "100%|██████████| 81/81 [00:56<00:00,  1.42it/s]\n",
      "  0%|          | 0/81 [00:00<?, ?it/s]"
     ]
    },
    {
     "name": "stdout",
     "output_type": "stream",
     "text": [
      "Epoch 35 of 50 took 63.613s\n",
      "  training loss (in-iteration): \t0.022566\n",
      "  validation iou: \t\t\t0.876 \n"
     ]
    },
    {
     "name": "stderr",
     "output_type": "stream",
     "text": [
      "100%|██████████| 81/81 [00:57<00:00,  1.42it/s]\n",
      "  0%|          | 0/81 [00:00<?, ?it/s]"
     ]
    },
    {
     "name": "stdout",
     "output_type": "stream",
     "text": [
      "Epoch 36 of 50 took 64.232s\n",
      "  training loss (in-iteration): \t0.021871\n",
      "  validation iou: \t\t\t0.878 \n"
     ]
    },
    {
     "name": "stderr",
     "output_type": "stream",
     "text": [
      "100%|██████████| 81/81 [00:57<00:00,  1.40it/s]\n",
      "  0%|          | 0/81 [00:00<?, ?it/s]"
     ]
    },
    {
     "name": "stdout",
     "output_type": "stream",
     "text": [
      "Epoch 37 of 50 took 64.591s\n",
      "  training loss (in-iteration): \t0.020730\n",
      "  validation iou: \t\t\t0.879 \n"
     ]
    },
    {
     "name": "stderr",
     "output_type": "stream",
     "text": [
      "100%|██████████| 81/81 [00:57<00:00,  1.42it/s]\n",
      "  0%|          | 0/81 [00:00<?, ?it/s]"
     ]
    },
    {
     "name": "stdout",
     "output_type": "stream",
     "text": [
      "Epoch 38 of 50 took 63.812s\n",
      "  training loss (in-iteration): \t0.022038\n",
      "  validation iou: \t\t\t0.878 \n"
     ]
    },
    {
     "name": "stderr",
     "output_type": "stream",
     "text": [
      "100%|██████████| 81/81 [00:56<00:00,  1.43it/s]\n",
      "  0%|          | 0/81 [00:00<?, ?it/s]"
     ]
    },
    {
     "name": "stdout",
     "output_type": "stream",
     "text": [
      "Epoch 39 of 50 took 63.466s\n",
      "  training loss (in-iteration): \t0.021235\n",
      "  validation iou: \t\t\t0.876 \n"
     ]
    },
    {
     "name": "stderr",
     "output_type": "stream",
     "text": [
      "100%|██████████| 81/81 [00:57<00:00,  1.42it/s]\n",
      "  0%|          | 0/81 [00:00<?, ?it/s]"
     ]
    },
    {
     "name": "stdout",
     "output_type": "stream",
     "text": [
      "Epoch 40 of 50 took 63.828s\n",
      "  training loss (in-iteration): \t0.021141\n",
      "  validation iou: \t\t\t0.877 \n"
     ]
    },
    {
     "name": "stderr",
     "output_type": "stream",
     "text": [
      "100%|██████████| 81/81 [00:56<00:00,  1.42it/s]\n",
      "  0%|          | 0/81 [00:00<?, ?it/s]"
     ]
    },
    {
     "name": "stdout",
     "output_type": "stream",
     "text": [
      "Epoch 41 of 50 took 63.476s\n",
      "  training loss (in-iteration): \t0.020745\n",
      "  validation iou: \t\t\t0.878 \n"
     ]
    },
    {
     "name": "stderr",
     "output_type": "stream",
     "text": [
      "100%|██████████| 81/81 [00:57<00:00,  1.42it/s]\n",
      "  0%|          | 0/81 [00:00<?, ?it/s]"
     ]
    },
    {
     "name": "stdout",
     "output_type": "stream",
     "text": [
      "Epoch 42 of 50 took 63.873s\n",
      "  training loss (in-iteration): \t0.020888\n",
      "  validation iou: \t\t\t0.878 \n"
     ]
    },
    {
     "name": "stderr",
     "output_type": "stream",
     "text": [
      "100%|██████████| 81/81 [00:56<00:00,  1.43it/s]\n",
      "  0%|          | 0/81 [00:00<?, ?it/s]"
     ]
    },
    {
     "name": "stdout",
     "output_type": "stream",
     "text": [
      "Epoch 43 of 50 took 63.326s\n",
      "  training loss (in-iteration): \t0.020035\n",
      "  validation iou: \t\t\t0.877 \n"
     ]
    },
    {
     "name": "stderr",
     "output_type": "stream",
     "text": [
      "100%|██████████| 81/81 [00:56<00:00,  1.43it/s]\n",
      "  0%|          | 0/81 [00:00<?, ?it/s]"
     ]
    },
    {
     "name": "stdout",
     "output_type": "stream",
     "text": [
      "Epoch 44 of 50 took 63.273s\n",
      "  training loss (in-iteration): \t0.019940\n",
      "  validation iou: \t\t\t0.878 \n"
     ]
    },
    {
     "name": "stderr",
     "output_type": "stream",
     "text": [
      "100%|██████████| 81/81 [00:56<00:00,  1.42it/s]\n",
      "  0%|          | 0/81 [00:00<?, ?it/s]"
     ]
    },
    {
     "name": "stdout",
     "output_type": "stream",
     "text": [
      "Epoch 45 of 50 took 63.569s\n",
      "  training loss (in-iteration): \t0.020273\n",
      "  validation iou: \t\t\t0.878 \n"
     ]
    },
    {
     "name": "stderr",
     "output_type": "stream",
     "text": [
      "100%|██████████| 81/81 [00:57<00:00,  1.42it/s]\n",
      "  0%|          | 0/81 [00:00<?, ?it/s]"
     ]
    },
    {
     "name": "stdout",
     "output_type": "stream",
     "text": [
      "Epoch 46 of 50 took 63.765s\n",
      "  training loss (in-iteration): \t0.020773\n",
      "  validation iou: \t\t\t0.878 \n"
     ]
    },
    {
     "name": "stderr",
     "output_type": "stream",
     "text": [
      "100%|██████████| 81/81 [00:56<00:00,  1.42it/s]\n",
      "  0%|          | 0/81 [00:00<?, ?it/s]"
     ]
    },
    {
     "name": "stdout",
     "output_type": "stream",
     "text": [
      "Epoch 47 of 50 took 63.480s\n",
      "  training loss (in-iteration): \t0.020692\n",
      "  validation iou: \t\t\t0.879 \n"
     ]
    },
    {
     "name": "stderr",
     "output_type": "stream",
     "text": [
      "100%|██████████| 81/81 [00:57<00:00,  1.42it/s]\n",
      "  0%|          | 0/81 [00:00<?, ?it/s]"
     ]
    },
    {
     "name": "stdout",
     "output_type": "stream",
     "text": [
      "Epoch 48 of 50 took 63.665s\n",
      "  training loss (in-iteration): \t0.021054\n",
      "  validation iou: \t\t\t0.878 \n"
     ]
    },
    {
     "name": "stderr",
     "output_type": "stream",
     "text": [
      "100%|██████████| 81/81 [00:56<00:00,  1.42it/s]\n",
      "  0%|          | 0/81 [00:00<?, ?it/s]"
     ]
    },
    {
     "name": "stdout",
     "output_type": "stream",
     "text": [
      "Epoch 49 of 50 took 63.608s\n",
      "  training loss (in-iteration): \t0.020326\n",
      "  validation iou: \t\t\t0.879 \n"
     ]
    },
    {
     "name": "stderr",
     "output_type": "stream",
     "text": [
      "100%|██████████| 81/81 [00:56<00:00,  1.43it/s]\n"
     ]
    },
    {
     "name": "stdout",
     "output_type": "stream",
     "text": [
      "Epoch 50 of 50 took 63.523s\n",
      "  training loss (in-iteration): \t0.019570\n",
      "  validation iou: \t\t\t0.879 \n"
     ]
    }
   ],
   "source": [
    "train_loop(seg_resnet, optimizer, train_batch_gen, test_batch_gen, epochs_for_lr_decay=[30,40], num_epochs=50)"
   ]
  },
  {
   "cell_type": "code",
   "execution_count": 19,
   "metadata": {},
   "outputs": [
    {
     "name": "stdout",
     "output_type": "stream",
     "text": [
      "Final test iou for cnn with pretrained classifier: \t\t\t0.879 \n"
     ]
    }
   ],
   "source": [
    "val_accuracy = eval_model(seg_resnet, test_batch_gen)\n",
    "\n",
    "print(\"Final test iou for cnn with pretrained classifier: \\t\\t\\t{:.3f} \".format(val_accuracy))"
   ]
  }
 ],
 "metadata": {
  "kernelspec": {
   "display_name": "Python 3",
   "language": "python",
   "name": "python3"
  },
  "language_info": {
   "codemirror_mode": {
    "name": "ipython",
    "version": 3
   },
   "file_extension": ".py",
   "mimetype": "text/x-python",
   "name": "python",
   "nbconvert_exporter": "python",
   "pygments_lexer": "ipython3",
   "version": "3.7.3"
  }
 },
 "nbformat": 4,
 "nbformat_minor": 5
}
